{
 "cells": [
  {
   "cell_type": "code",
   "execution_count": 1,
   "metadata": {
    "colab": {
     "base_uri": "https://localhost:8080/"
    },
    "id": "U0zZ_92l9rmB",
    "outputId": "6cfe16ae-031e-45b3-b7a6-a58deecd94c4"
   },
   "outputs": [
    {
     "name": "stdout",
     "output_type": "stream",
     "text": [
      "Get:1 https://cloud.r-project.org/bin/linux/ubuntu bionic-cran40/ InRelease [3,626 B]\n",
      "Hit:2 http://archive.ubuntu.com/ubuntu bionic InRelease\n",
      "Ign:3 https://developer.download.nvidia.com/compute/machine-learning/repos/ubuntu1804/x86_64  InRelease\n",
      "Hit:4 https://developer.download.nvidia.com/compute/cuda/repos/ubuntu1804/x86_64  InRelease\n",
      "Hit:5 https://developer.download.nvidia.com/compute/machine-learning/repos/ubuntu1804/x86_64  Release\n",
      "Get:6 http://security.ubuntu.com/ubuntu bionic-security InRelease [88.7 kB]\n",
      "Get:7 http://archive.ubuntu.com/ubuntu bionic-updates InRelease [88.7 kB]\n",
      "Get:8 http://ppa.launchpad.net/c2d4u.team/c2d4u4.0+/ubuntu bionic InRelease [15.9 kB]\n",
      "Get:9 http://archive.ubuntu.com/ubuntu bionic-backports InRelease [83.3 kB]\n",
      "Hit:11 http://ppa.launchpad.net/cran/libgit2/ubuntu bionic InRelease\n",
      "Hit:12 http://ppa.launchpad.net/deadsnakes/ppa/ubuntu bionic InRelease\n",
      "Get:13 http://archive.ubuntu.com/ubuntu bionic-updates/main amd64 Packages [3,493 kB]\n",
      "Get:14 http://security.ubuntu.com/ubuntu bionic-security/restricted amd64 Packages [1,262 kB]\n",
      "Hit:15 http://ppa.launchpad.net/graphics-drivers/ppa/ubuntu bionic InRelease\n",
      "Get:16 http://ppa.launchpad.net/c2d4u.team/c2d4u4.0+/ubuntu bionic/main Sources [2,219 kB]\n",
      "Get:17 http://archive.ubuntu.com/ubuntu bionic-updates/multiverse amd64 Packages [29.9 kB]\n",
      "Get:18 http://archive.ubuntu.com/ubuntu bionic-updates/restricted amd64 Packages [1,303 kB]\n",
      "Get:19 http://archive.ubuntu.com/ubuntu bionic-updates/universe amd64 Packages [2,333 kB]\n",
      "Get:20 http://security.ubuntu.com/ubuntu bionic-security/universe amd64 Packages [1,559 kB]\n",
      "Get:21 http://security.ubuntu.com/ubuntu bionic-security/main amd64 Packages [3,065 kB]\n",
      "Get:22 http://security.ubuntu.com/ubuntu bionic-security/multiverse amd64 Packages [22.8 kB]\n",
      "Get:23 http://ppa.launchpad.net/c2d4u.team/c2d4u4.0+/ubuntu bionic/main amd64 Packages [1,135 kB]\n",
      "Fetched 16.7 MB in 7s (2,347 kB/s)\n",
      "Reading package lists... Done\n"
     ]
    }
   ],
   "source": [
    "import os\n",
    "# Find the latest version of spark 3.2  from http://www.apache.org/dist/spark/ and enter as the spark version\n",
    "# For example:\n",
    "# spark_version = 'spark-3.2.2'\n",
    "spark_version = 'spark-3.2.2'\n",
    "os.environ['SPARK_VERSION']=spark_version\n",
    "\n",
    "# Install Spark and Java\n",
    "!apt-get update\n",
    "!apt-get install openjdk-11-jdk-headless -qq > /dev/null\n",
    "!wget -q http://www.apache.org/dist/spark/$SPARK_VERSION/$SPARK_VERSION-bin-hadoop2.7.tgz\n",
    "!tar xf $SPARK_VERSION-bin-hadoop2.7.tgz\n",
    "!pip install -q findspark\n",
    "\n",
    "# Set Environment Variables\n",
    "import os\n",
    "os.environ[\"JAVA_HOME\"] = \"/usr/lib/jvm/java-11-openjdk-amd64\"\n",
    "os.environ[\"SPARK_HOME\"] = f\"/content/{spark_version}-bin-hadoop2.7\"\n",
    "\n",
    "# Start a SparkSession\n",
    "import findspark\n",
    "findspark.init()"
   ]
  },
  {
   "cell_type": "code",
   "execution_count": 2,
   "metadata": {
    "colab": {
     "base_uri": "https://localhost:8080/"
    },
    "id": "xISV-9eR6Yah",
    "outputId": "27630c0e-fe99-4334-d806-5fe0bc147470"
   },
   "outputs": [
    {
     "name": "stdout",
     "output_type": "stream",
     "text": [
      "--2022-11-16 05:05:37--  https://jdbc.postgresql.org/download/postgresql-42.2.9.jar\n",
      "Resolving jdbc.postgresql.org (jdbc.postgresql.org)... 72.32.157.228, 2001:4800:3e1:1::228\n",
      "Connecting to jdbc.postgresql.org (jdbc.postgresql.org)|72.32.157.228|:443... connected.\n",
      "HTTP request sent, awaiting response... 200 OK\n",
      "Length: 914037 (893K) [application/java-archive]\n",
      "Saving to: ‘postgresql-42.2.9.jar’\n",
      "\n",
      "postgresql-42.2.9.j 100%[===================>] 892.61K  1.26MB/s    in 0.7s    \n",
      "\n",
      "2022-11-16 05:05:39 (1.26 MB/s) - ‘postgresql-42.2.9.jar’ saved [914037/914037]\n",
      "\n"
     ]
    }
   ],
   "source": [
    "!wget https://jdbc.postgresql.org/download/postgresql-42.2.9.jar"
   ]
  },
  {
   "cell_type": "code",
   "execution_count": 3,
   "metadata": {
    "id": "21VIzGHIioxp"
   },
   "outputs": [],
   "source": [
    "from pyspark.sql import SparkSession\n",
    "spark = SparkSession.builder.appName(\"CloudETL\").config(\"spark.driver.extraClassPath\",\"/content/postgresql-42.2.9.jar\").getOrCreate()"
   ]
  },
  {
   "cell_type": "code",
   "execution_count": 4,
   "metadata": {
    "colab": {
     "base_uri": "https://localhost:8080/"
    },
    "id": "dpiM05YC-H6F",
    "outputId": "d4915a2a-d7f5-4e4d-ec8a-5992bdcc2dbc"
   },
   "outputs": [
    {
     "name": "stdout",
     "output_type": "stream",
     "text": [
      "+-----------+-----------+--------------+----------+--------------+----------------------------------------------------------------------------------------------+----------------+-----------+-------------+-----------+----+-----------------+-------------------------------------------------------+---------------------------------------------------------------------------------------------------------------------------------------------------------------------------------------------------------------------------------------------------------------------------------------------------------------------------------------------------------------------------------------------------------------------------------------+-----------+\n",
      "|marketplace|customer_id|review_id     |product_id|product_parent|product_title                                                                                 |product_category|star_rating|helpful_votes|total_votes|vine|verified_purchase|review_headline                                        |review_body                                                                                                                                                                                                                                                                                                                                                                                                                            |review_date|\n",
      "+-----------+-----------+--------------+----------+--------------+----------------------------------------------------------------------------------------------+----------------+-----------+-------------+-----------+----+-----------------+-------------------------------------------------------+---------------------------------------------------------------------------------------------------------------------------------------------------------------------------------------------------------------------------------------------------------------------------------------------------------------------------------------------------------------------------------------------------------------------------------------+-----------+\n",
      "|US         |1797882    |R3I2DHQBR577SS|B001ANOOOE|2102612       |The Naked Bee Vitmin C Moisturizing Sunscreen SPF 30, 5.5 oz (163 ml.)                        |Beauty          |5          |0            |0          |N   |Y                |Five Stars                                             |Love this, excellent sun block!!                                                                                                                                                                                                                                                                                                                                                                                                       |2015-08-31 |\n",
      "|US         |18381298   |R1QNE9NQFJC2Y4|B0016J22EQ|106393691     |Alba Botanica Sunless Tanning Lotion, 4 Ounce                                                 |Beauty          |5          |0            |0          |N   |Y                |Thank you Alba Bontanica!                              |The great thing about this cream is that it doesn't smell weird like all those chemical laden ones.  I get a nice healthy un-fake looking tan that isn't orange and it makes my skin soft too.                                                                                                                                                                                                                                         |2015-08-31 |\n",
      "|US         |19242472   |R3LIDG2Q4LJBAO|B00HU6UQAG|375449471     |Elysee Infusion Skin Therapy Elixir, 2oz.                                                     |Beauty          |5          |0            |0          |N   |Y                |Five Stars                                             |Great Product, I'm 65 years old and this is all it claims to be!                                                                                                                                                                                                                                                                                                                                                                       |2015-08-31 |\n",
      "|US         |19551372   |R3KSZHPAEVPEAL|B002HWS7RM|255651889     |Diane D722 Color, Perm And Conditioner Processing Caps - 100-Pack - Clear                     |Beauty          |5          |0            |0          |N   |Y                |GOOD DEAL!                                             |I use them as shower caps & conditioning caps. I like that they're in bulk. It saves a lot of money.                                                                                                                                                                                                                                                                                                                                   |2015-08-31 |\n",
      "|US         |14802407   |RAI2OIG50KZ43 |B00SM99KWU|116158747     |Biore UV Aqua Rich Watery Essence SPF50+/PA++++ (pack of 2)                                   |Beauty          |5          |0            |0          |N   |Y                |this soaks in quick and provides a nice base for makeup|This is my go-to daily sunblock. It leaves no white cast at all and has a clean, pleasant scent. If you're a makeup wearer, this soaks in quick and provides a nice base for makeup. I've been using this brand for over a year. With daily use, this tube will last you a couple months.                                                                                                                                              |2015-08-31 |\n",
      "|US         |2909389    |R1R30FA4RB5P54|B000NYL1Z6|166146615     |Murad Clarifying Cleanser                                                                     |Beauty          |4          |0            |0          |N   |Y                |Four Stars                                             |Good                                                                                                                                                                                                                                                                                                                                                                                                                                   |2015-08-31 |\n",
      "|US         |19397215   |R30IJKCGJBGPJH|B001SYWTFG|111742328     |CoverGirl Queen Collection Perfect Point Plus Eyeliner Black Onyx 200                         |Beauty          |5          |0            |0          |N   |Y                |Good buy                                               |Great eyeliner, does run just a little bit at corners at times, but overall, it does keep on your eyes all day long.                                                                                                                                                                                                                                                                                                                   |2015-08-31 |\n",
      "|US         |3195210    |R18GLJJPVQ1OVH|B005F2EVMQ|255803087     |Bifesta Mandom Eye Makeup Remover, 145ml                                                      |Beauty          |5          |0            |0          |N   |Y                |Five Stars                                             |Best makeup remover！                                                                                                                                                                                                                                                                                                                                                                                                                  |2015-08-31 |\n",
      "|US         |52216383   |R8TVYIJXLYJT0 |B00M1SUW7K|246816549     |Can You Handlebar All-Natural Secondary Moustache Wax : Extra Strength, Firm Hold             |Beauty          |5          |0            |0          |N   |Y                |Tame the wild mustache                                 |This is a great product. I'm on my latest stab at a major beard, and I always seem to start growing them during the hottest months. My mustache is going through a particularly awkward phase of growth, and this wax really helps keep it in place, out of the way. I look neater and I can actually eat and drink again without collecting a big mess. If you're going to get this, do yourself a favor and get a good mustache comb.|2015-08-31 |\n",
      "|US         |10278216   |R1CJGF6M3PVHEZ|B001KYQA1S|9612905       |Maybelline Great Lash Washable Mascara, Clear [110], 1 ea                                     |Beauty          |1          |0            |2          |N   |Y                |but it's like having nothing on them at all            |I thought it would darken the lashes even though it's clear, but it's like having nothing on them at all. Sadly I threw it away.                                                                                                                                                                                                                                                                                                       |2015-08-31 |\n",
      "|US         |24655453   |R2A30ALEGLMCGN|B00SAQ9DZY|292127037     |12 New, High Quality, Amber 2 ml (5/8 Dram) Glass Bottles, with Orifice Reducer and Black Cap.|Beauty          |4          |1            |1          |N   |Y                |Good Product                                           |These are great for small mixtures for EO's, especially for traveling.  I only gave this 4 stars because of the orifice reducer.  The hole is so small it is hard to get the oil out.  Just needs to be slightly bigger.                                                                                                                                                                                                               |2015-08-31 |\n",
      "|US         |30788223   |R134GP1Y3EQZ1L|B00HFQQ0VU|311309827     |Waterpik Aquarius Water Flosser                                                               |Beauty          |5          |0            |0          |N   |Y                |Optimum Oral Health                                    |Just got this.  Nice size and very compact.  I am looking forward to the gum massaging.  I wore out my last model.                                                                                                                                                                                                                                                                                                                     |2015-08-31 |\n",
      "|US         |11257536   |R6CE3SOIUJGP4 |B00PYL8MAA|390030149     |Proganix Agave Nectar Plus Silica Curling Cream Plus Defrizzant, 6 Ounce                      |Beauty          |4          |1            |1          |N   |N                |Love this cream !                                      |Wish I had discovered this years ago ! Leaves my curles super defined and soft !!!. I still need to put on gel or spray for it to last though but it is super recommend it!                                                                                                                                                                                                                                                            |2015-08-31 |\n",
      "|US         |29605778   |R37CDLQZUPDZVM|B00D9NV2D4|794858888     |Shea Butter                                                                                   |Beauty          |5          |0            |0          |N   |Y                |It works so much better than store bought lotion       |I bought this to make my own lotion. I mixed the shea butter and coconut oil together. It works so much better than store bought lotion! I want to get some raw cocoa butter to mix in with the next batch.                                                                                                                                                                                                                            |2015-08-31 |\n",
      "|US         |41238422   |R1KH9XCK6GYT26|B008Y9M412|874223919     |Etude House Fresh Cherry Tint # 02 RD301                                                      |Beauty          |5          |0            |0          |N   |Y                |Five Stars                                             |The tint is awesome but seller don't even send one sample.                                                                                                                                                                                                                                                                                                                                                                             |2015-08-31 |\n",
      "|US         |23620123   |R3I4BQ6654MQNA|B00FWXBLHG|464001209     |Vintage Lil' Sponge Holder                                                                    |Beauty          |5          |1            |1          |N   |Y                |Great product, fast delivery                           |I'm in love with this! It's so unique and fits with my decor beautifully.  Couldn't ask for a better seller.  Received product before date promised.                                                                                                                                                                                                                                                                                   |2015-08-31 |\n",
      "|US         |25564245   |R3LUPG356F1D40|B003KL8CB0|328680790     |Jenna Jameson Heartbreaker Perfume parent                                                     |Beauty          |5          |3            |3          |N   |N                |Does not smell cheap!                                  |I was given this product in exchange for a review. All I can say is wow!!!! I love perfume, and this is a great scent! The notes are a little heavy but i really like it overall. I get headaches easily, but this doesnt seem to do that with me. Does not smell cheap!!! It is a wonderful fragrance for not a lot of money! I love it, you should give it a try!                                                                    |2015-08-31 |\n",
      "|US         |801375     |R3HNVRTHL9S2ZB|B006R2LNV0|620737389     |Korean Cosmetics_Isa Knox X2D2 Original Hydra Serum_50ml                                      |Beauty          |5          |0            |0          |N   |N                |Five Stars                                             |Magical everybody noticed a skin change right away                                                                                                                                                                                                                                                                                                                                                                                     |2015-08-31 |\n",
      "|US         |9478730    |R5HKL5RD4IUT8 |B00SMIIR0W|351973146     |Schick Hydro Silk TrimStyle Moisturizing Razor                                                |Beauty          |5          |0            |0          |N   |Y                |Love this Razor/Trimmer                                |Works fantastic! The razor leaves my legs really smooth unlike most disposable razors I've used. The razor runs acrossed your skin so smoothly you don't feel like its doing anything. The trimmer is a trimmer it trims, not meant for down to the skin shave but it gets close enough so you can just run the razor through and boom smooth!                                                                                         |2015-08-31 |\n",
      "|US         |18418407   |R37Z8NBTHPR853|B003UKKH6O|10034795      |Oral-B Vitality Prowhite Rechargeable Electric Toothbrush 1 Count                             |Beauty          |5          |0            |0          |N   |Y                |Five Stars                                             |excellent battery tooth brush                                                                                                                                                                                                                                                                                                                                                                                                          |2015-08-31 |\n",
      "+-----------+-----------+--------------+----------+--------------+----------------------------------------------------------------------------------------------+----------------+-----------+-------------+-----------+----+-----------------+-------------------------------------------------------+---------------------------------------------------------------------------------------------------------------------------------------------------------------------------------------------------------------------------------------------------------------------------------------------------------------------------------------------------------------------------------------------------------------------------------------+-----------+\n",
      "only showing top 20 rows\n",
      "\n"
     ]
    }
   ],
   "source": [
    "from pyspark import SparkFiles\n",
    "url = \"https://s3.amazonaws.com/amazon-reviews-pds/tsv/amazon_reviews_us_Beauty_v1_00.tsv.gz\"\n",
    "spark.sparkContext.addFile(url)\n",
    "\n",
    "dfShoes = spark.read.option(\"header\", \"true\").csv(\"file://\" + SparkFiles.get(\"amazon_reviews_us_Beauty_v1_00.tsv.gz\"), sep='\\t', inferSchema=True)\n",
    "dfShoes.show(truncate=False)"
   ]
  },
  {
   "cell_type": "code",
   "execution_count": 5,
   "metadata": {
    "colab": {
     "base_uri": "https://localhost:8080/"
    },
    "id": "fjfASY6Un43X",
    "outputId": "cb703aff-3fa9-4e07-a434-c5773911c2e9"
   },
   "outputs": [
    {
     "name": "stdout",
     "output_type": "stream",
     "text": [
      "+-----------+-----------+--------------+----------+--------------+--------------------+----------------+-----------+-------------+-----------+----+-----------------+--------------------+---------------------+-----------+\n",
      "|marketplace|customer_id|     review_id|product_id|product_parent|       product_title|product_category|star_rating|helpful_votes|total_votes|vine|verified_purchase|     review_headline|          review_body|review_date|\n",
      "+-----------+-----------+--------------+----------+--------------+--------------------+----------------+-----------+-------------+-----------+----+-----------------+--------------------+---------------------+-----------+\n",
      "|         US|    1797882|R3I2DHQBR577SS|B001ANOOOE|       2102612|The Naked Bee Vit...|          Beauty|          5|            0|          0|   N|                Y|          Five Stars| Love this, excell...| 2015-08-31|\n",
      "|         US|   18381298|R1QNE9NQFJC2Y4|B0016J22EQ|     106393691|Alba Botanica Sun...|          Beauty|          5|            0|          0|   N|                Y|Thank you Alba Bo...| The great thing a...| 2015-08-31|\n",
      "|         US|   19242472|R3LIDG2Q4LJBAO|B00HU6UQAG|     375449471|Elysee Infusion S...|          Beauty|          5|            0|          0|   N|                Y|          Five Stars| Great Product, I'...| 2015-08-31|\n",
      "|         US|   19551372|R3KSZHPAEVPEAL|B002HWS7RM|     255651889|Diane D722 Color,...|          Beauty|          5|            0|          0|   N|                Y|          GOOD DEAL!| I use them as sho...| 2015-08-31|\n",
      "|         US|   14802407| RAI2OIG50KZ43|B00SM99KWU|     116158747|Biore UV Aqua Ric...|          Beauty|          5|            0|          0|   N|                Y|this soaks in qui...| This is my go-to ...| 2015-08-31|\n",
      "|         US|    2909389|R1R30FA4RB5P54|B000NYL1Z6|     166146615|Murad Clarifying ...|          Beauty|          4|            0|          0|   N|                Y|          Four Stars|                 Good| 2015-08-31|\n",
      "|         US|   19397215|R30IJKCGJBGPJH|B001SYWTFG|     111742328|CoverGirl Queen C...|          Beauty|          5|            0|          0|   N|                Y|            Good buy| Great eyeliner, d...| 2015-08-31|\n",
      "|         US|    3195210|R18GLJJPVQ1OVH|B005F2EVMQ|     255803087|Bifesta Mandom Ey...|          Beauty|          5|            0|          0|   N|                Y|          Five Stars|Best makeup remover！| 2015-08-31|\n",
      "|         US|   52216383| R8TVYIJXLYJT0|B00M1SUW7K|     246816549|Can You Handlebar...|          Beauty|          5|            0|          0|   N|                Y|Tame the wild mus...| This is a great p...| 2015-08-31|\n",
      "|         US|   10278216|R1CJGF6M3PVHEZ|B001KYQA1S|       9612905|Maybelline Great ...|          Beauty|          1|            0|          2|   N|                Y|but it's like hav...| I thought it woul...| 2015-08-31|\n",
      "|         US|   24655453|R2A30ALEGLMCGN|B00SAQ9DZY|     292127037|12 New, High Qual...|          Beauty|          4|            1|          1|   N|                Y|        Good Product| These are great f...| 2015-08-31|\n",
      "|         US|   30788223|R134GP1Y3EQZ1L|B00HFQQ0VU|     311309827|Waterpik Aquarius...|          Beauty|          5|            0|          0|   N|                Y| Optimum Oral Health| Just got this.  N...| 2015-08-31|\n",
      "|         US|   11257536| R6CE3SOIUJGP4|B00PYL8MAA|     390030149|Proganix Agave Ne...|          Beauty|          4|            1|          1|   N|                N|   Love this cream !| Wish I had discov...| 2015-08-31|\n",
      "|         US|   29605778|R37CDLQZUPDZVM|B00D9NV2D4|     794858888|         Shea Butter|          Beauty|          5|            0|          0|   N|                Y|It works so much ...| I bought this to ...| 2015-08-31|\n",
      "|         US|   41238422|R1KH9XCK6GYT26|B008Y9M412|     874223919|Etude House Fresh...|          Beauty|          5|            0|          0|   N|                Y|          Five Stars| The tint is aweso...| 2015-08-31|\n",
      "|         US|   23620123|R3I4BQ6654MQNA|B00FWXBLHG|     464001209|Vintage Lil' Spon...|          Beauty|          5|            1|          1|   N|                Y|Great product, fa...| I'm in love with ...| 2015-08-31|\n",
      "|         US|   25564245|R3LUPG356F1D40|B003KL8CB0|     328680790|Jenna Jameson Hea...|          Beauty|          5|            3|          3|   N|                N|Does not smell ch...| I was given this ...| 2015-08-31|\n",
      "|         US|     801375|R3HNVRTHL9S2ZB|B006R2LNV0|     620737389|Korean Cosmetics_...|          Beauty|          5|            0|          0|   N|                N|          Five Stars| Magical everybody...| 2015-08-31|\n",
      "|         US|    9478730| R5HKL5RD4IUT8|B00SMIIR0W|     351973146|Schick Hydro Silk...|          Beauty|          5|            0|          0|   N|                Y|Love this Razor/T...| Works fantastic! ...| 2015-08-31|\n",
      "|         US|   18418407|R37Z8NBTHPR853|B003UKKH6O|      10034795|Oral-B Vitality P...|          Beauty|          5|            0|          0|   N|                Y|          Five Stars| excellent battery...| 2015-08-31|\n",
      "+-----------+-----------+--------------+----------+--------------+--------------------+----------------+-----------+-------------+-----------+----+-----------------+--------------------+---------------------+-----------+\n",
      "only showing top 20 rows\n",
      "\n"
     ]
    }
   ],
   "source": [
    "dropna_df = dfShoes.dropna(how='any')\n",
    "dropna_df.show()"
   ]
  },
  {
   "cell_type": "code",
   "execution_count": 10,
   "metadata": {
    "colab": {
     "base_uri": "https://localhost:8080/"
    },
    "id": "XHZdxWNprcXK",
    "outputId": "54ac76b8-ba72-47c6-fa4a-bc21f73b797b"
   },
   "outputs": [
    {
     "name": "stdout",
     "output_type": "stream",
     "text": [
      "+-----------+-----------+--------------+----------+--------------+--------------------+----------------+-----------+-------------+-----------+----+-----------------+--------------------+--------------------+-----------+\n",
      "|marketplace|customer_id|     review_id|product_id|product_parent|       product_title|product_category|star_rating|helpful_votes|total_votes|vine|verified_purchase|     review_headline|         review_body|review_date|\n",
      "+-----------+-----------+--------------+----------+--------------+--------------------+----------------+-----------+-------------+-----------+----+-----------------+--------------------+--------------------+-----------+\n",
      "|         US|   13986795|R2FDU5M81HJUEL|0451192362|      52230657|how stella got he...|          Beauty|          2|            1|          1|   N|                Y|Should have looke...|I did not like th...| 2013-07-09|\n",
      "|         US|   43882812|R34FARMWJEFAKM|0702001996|     307179209|  Mastiha Hand Cream|          Beauty|          5|            0|          0|   N|                Y|          Five Stars|Really helps with...| 2015-07-16|\n",
      "|         US|   36596648|R1808UR1UGYORF|0737104473|      75563639|Hello Kitty Lustr...|          Beauty|          1|            2|          2|   N|                N|            Fake MAC|Please research t...| 2010-05-19|\n",
      "|         US|   19370722| RQGTXP4V36GRX|0785374426|     527085877|Charlotte Russe R...|          Beauty|          5|            1|          1|   N|                N|          Five Stars|Great Valentine's...| 2015-03-31|\n",
      "|         US|   52370327|R3AWWJLVT6ZNNK|0977217213|      88592856|Water Blessing La...|          Beauty|          5|            1|          1|   N|                N|               Great|I like but they a...| 2014-04-19|\n",
      "|         US|   26249854|R25RSU7KRPLFK9|1304139220|     211904308|MAC Lip Care - Li...|          Beauty|          5|            1|          1|   N|                Y|real product, sam...|MAC Lip Care - Li...| 2013-07-06|\n",
      "|         US|   26249854|R13FZEW5P7QLNS|1304196062|      81313548|Max Factor Lastin...|          Beauty|          5|            0|          0|   N|                N|Love it!Definitel...|Mom asked me what...| 2013-07-04|\n",
      "|         US|   49748685| R6EMLD3OD8PI5|1304482596|     143784904|Mac Cream 12 Colo...|          Beauty|          5|            0|          0|   N|                N|I am a make up ar...|I am a make up ar...| 2013-11-21|\n",
      "|         US|    6549614|R1WMLSDKEEVGAD|1304511154|     765375743|Mac Magic N 8 Leo...|          Beauty|          1|            0|          0|   N|                Y|These are Not Shi...|Not what I expect...| 2013-12-05|\n",
      "|         US|    7754895|R31RH29P9I57NQ|1304622460|     239573616|MAC 24 Color Eyes...|          Beauty|          5|            0|          0|   N|                N|                 wow|Wow i soo recomme...| 2013-11-21|\n",
      "|         US|   47879481|R3O19JVG3ZENR1|1304622665|     319846988|MAC 10 Colors Eye...|          Beauty|          1|            3|          3|   N|                N|Fake, seller writ...|Fake MAc. MAC doe...| 2013-12-04|\n",
      "|         US|    2066378|R30W2ZCH3Y1SYX|1304624544|     710563471|MAC 10 Colors Eye...|          Beauty|          3|            0|          0|   N|                Y|Colors all frosty...|Colors all frosty...| 2014-07-27|\n",
      "|         US|   33383611| RFXHFJMJKMDNQ|1304665704|      21650269|New Too Faced Nat...|          Beauty|          5|            0|          0|   N|                N|       real. amazing|I bought this pro...| 2013-11-28|\n",
      "|         US|   20472808|R32HZYWVDYQ279|1403790965|     150307371|     Arbonne Bronzer|          Beauty|          5|            0|          1|   N|                Y|        best bronzer|Love this stuff.....| 2014-06-28|\n",
      "|         US|   37167914|R1OKGKORAMP3RE|1435141458|     433807588|          Tattoo Art|          Beauty|          4|            0|          4|   N|                N|               great|               great| 2015-01-17|\n",
      "|         US|   46895087| RETQTXJ3MHD9G|1572671203|      37759132|Perlage Fortifyin...|          Beauty|          4|            4|          4|   N|                N|            Not Bad!|I am a first time...| 2011-01-19|\n",
      "|         US|   52961013|R1IKJK8APVWK08|1578505739|     472640122|Oriental Carpet C...|          Beauty|          4|            0|          0|   N|                Y|Pretty, soft, and...|Nice for what I w...| 2015-03-11|\n",
      "|         US|   51922415|R2ZESWH3ZKF14E|1578505755|     468074893|Oriental Carpet C...|          Beauty|          5|            0|          0|   N|                Y|          Five Stars|Great little big ...| 2015-05-17|\n",
      "|         US|   12398900|R3O5P87IQYGO01|1598113127|     169818056|Moroni Oil Vial S...|          Beauty|          5|            0|          0|   N|                Y|          Five Stars|just what every E...| 2014-12-26|\n",
      "|         US|   21576961|R31AQXBUJ5DTRX|173012237X|     794923603|one touch remover...|          Beauty|          5|            0|          0|   N|                Y|       Good purchase|These work really...| 2012-09-18|\n",
      "+-----------+-----------+--------------+----------+--------------+--------------------+----------------+-----------+-------------+-----------+----+-----------------+--------------------+--------------------+-----------+\n",
      "only showing top 20 rows\n",
      "\n"
     ]
    }
   ],
   "source": [
    "dfShoesCleaned = dropna_df.dropDuplicates(['product_id'])\n",
    "dfShoesCleaned.show()"
   ]
  },
  {
   "cell_type": "code",
   "execution_count": 11,
   "metadata": {
    "colab": {
     "base_uri": "https://localhost:8080/"
    },
    "id": "fbmlsyBIPn2r",
    "outputId": "711530ad-5d35-4011-8af1-6211903289fe"
   },
   "outputs": [
    {
     "data": {
      "text/plain": [
       "588771"
      ]
     },
     "execution_count": 11,
     "metadata": {},
     "output_type": "execute_result"
    }
   ],
   "source": [
    "rows = dfShoesCleaned.count()\n",
    "rows"
   ]
  },
  {
   "cell_type": "code",
   "execution_count": 12,
   "metadata": {
    "colab": {
     "base_uri": "https://localhost:8080/"
    },
    "id": "rtdHqbUV3IAE",
    "outputId": "266c1513-4042-41c8-c4b4-b6f69c3ad86e"
   },
   "outputs": [
    {
     "name": "stdout",
     "output_type": "stream",
     "text": [
      "+-----------+-----------+--------------+----------+--------------+--------------------+----------------+-----------+-------------+-----------+----+-----------------+--------------------+--------------------+-----------+\n",
      "|marketplace|customer_id|     review_id|product_id|product_parent|       product_title|product_category|star_rating|helpful_votes|total_votes|vine|verified_purchase|     review_headline|         review_body|review_date|\n",
      "+-----------+-----------+--------------+----------+--------------+--------------------+----------------+-----------+-------------+-----------+----+-----------------+--------------------+--------------------+-----------+\n",
      "|         US|      10053|R20JWFTP4MYWAQ|B003L2CPW0|     959460701|Champs Cuba Gold ...|          Beauty|          5|            1|          1|   N|                Y|Oh does he smell ...|Love it. No compl...| 2015-05-17|\n",
      "|         US|      10104| RYXFP391C0VLY|B006EN98DC|     633927395|Color Charm Perma...|          Beauty|          5|            5|          6|   N|                Y|Wella toner is a ...|Wella toner is a ...| 2014-08-28|\n",
      "|         US|      10117|R3JR51ORU0B3UV|B00IP99C2U|     730053931|Mary Kay Forever ...|          Beauty|          5|            1|          1|   N|                Y| One of my favorites|Love this scent! ...| 2014-09-29|\n",
      "|         US|      10206| R7YBEPXRM9A5I|B00F90Y21O|     623397371|Apple Iphone 4, 4...|          Beauty|          4|            0|          0|   N|                Y|          Great case|I love this case ...| 2014-03-12|\n",
      "|         US|      10236|R38WUVXO558JZG|B003842346|     698979028|EZ Flow Pastel Co...|          Beauty|          2|            1|          1|   N|                Y|           Two Stars|Color is darker t...| 2015-07-19|\n",
      "|         US|      10286|R2RSQBMN4XJ2CS|B002LJUD7S|     222737877|Domire Handbag Po...|          Beauty|          4|            0|          0|   N|                Y|          Cute case!|This case is real...| 2013-06-10|\n",
      "|         US|      10293|R3ARPJZ6I98R2J|B00OQAZ9TM|     765339790|SHANY Bold Lipsti...|          Beauty|          5|            1|          2|   N|                Y|           love it ♥|It goes on great....| 2014-12-28|\n",
      "|         US|      10485| RFS1F128L94K0|B006NBBOIC|      59130842|Freetress Equal L...|          Beauty|          5|            2|          2|   N|                Y|               LOVE!|Beautiful style, ...| 2014-02-28|\n",
      "|         US|      10517| RAB30J58FJCON|B004YDWNHC|     416308773|Luscious Kisses B...|          Beauty|          5|            0|          0|   N|                N|Everything was pe...|Shipping took a l...| 2013-06-07|\n",
      "|         US|      10776|R13ZZKAI7TDXJZ|B00DUWN7XW|     721249061|Revlon Colorstay ...|          Beauty|          5|            0|          0|   N|                Y|i love this found...|i love this found...| 2015-06-08|\n",
      "|         US|      10807| RIEB47POL0NBS|B00M0J1F62|     775948398|The Veda Company ...|          Beauty|          5|            0|          0|   N|                Y|          Five Stars|     Terrific lotion| 2015-08-28|\n",
      "|         US|      11124|R1KGXDZPVVHNUE|B00K7VAIFO|     577837374|CoverGirl Queen C...|          Beauty|          3|            0|          0|   N|                Y|Satisfied with pu...|Lighter than I ex...| 2015-07-25|\n",
      "|         US|      11335|R3SS9RS87QQC9O|B00GYAXLAG|     775266012|Mary Kay Cologne ...|          Beauty|          5|            0|          0|   N|                Y|          Five Stars|Everything came a...| 2015-06-08|\n",
      "|         US|      11577|R2HRS7LBWIRFB0|B00FFKP3I4|     971559469|Beardbrand Beard ...|          Beauty|          5|            0|          0|   N|                N|          Five Stars|Amazing product, ...| 2014-08-16|\n",
      "|         US|      11693|R3JTF4FVLZDJIU|B00DUTZDQO|     552512170|TUBE 18pcs Profes...|          Beauty|          3|            0|          0|   N|                Y|                good|I like this set b...| 2013-12-26|\n",
      "|         US|      12631|R25YJ284LWX42Z|B00FGT51W2|     176406345|Frola Cosmetics P...|          Beauty|          5|            3|          4|   N|                Y|          Love them!|Super soft, great...| 2014-01-12|\n",
      "|         US|      12719|R241LS4D5DT4UX|B00805QJ66|     998579390|Sinful Colors Nai...|          Beauty|          2|            0|          0|   N|                Y|Wrong formula, I ...|I bought the colo...| 2014-08-07|\n",
      "|         US|      12917|R1PINRMVOG0HFV|B009JTZAC6|     736856714|Wet n Wild Color ...|          Beauty|          5|            0|          0|   N|                Y|          Five Stars|      Amazing price.| 2015-03-09|\n",
      "|         US|      13581|R26BJUNRRU6POC|B00I6E3OIC|      85154727|Maybelline New Yo...|          Beauty|          4|            2|          2|   N|                Y|          Four Stars|just what I expected| 2015-02-18|\n",
      "|         US|      13766| R300XKZG0L2JC|B003YCEHXW|     582371975|Keratin Complex C...|          Beauty|          2|            0|          0|   N|                Y|      Watery product|The presentation ...| 2014-08-25|\n",
      "+-----------+-----------+--------------+----------+--------------+--------------------+----------------+-----------+-------------+-----------+----+-----------------+--------------------+--------------------+-----------+\n",
      "only showing top 20 rows\n",
      "\n"
     ]
    }
   ],
   "source": [
    "dfShoesCleaned = dfShoesCleaned.dropDuplicates(['customer_id'])\n",
    "dfShoesCleaned.show()"
   ]
  },
  {
   "cell_type": "code",
   "execution_count": 13,
   "metadata": {
    "colab": {
     "base_uri": "https://localhost:8080/"
    },
    "id": "_YQZ5tJs5QvB",
    "outputId": "9d37acc9-4f0f-4e77-85ab-c4f58b2ac4e6"
   },
   "outputs": [
    {
     "data": {
      "text/plain": [
       "466687"
      ]
     },
     "execution_count": 13,
     "metadata": {},
     "output_type": "execute_result"
    }
   ],
   "source": [
    "rows2 = dfShoesCleaned.count()\n",
    "rows2"
   ]
  },
  {
   "cell_type": "code",
   "execution_count": 14,
   "metadata": {
    "colab": {
     "base_uri": "https://localhost:8080/"
    },
    "id": "qmTlE_veSFd1",
    "outputId": "90888840-5642-489c-9c56-780d707f9f95"
   },
   "outputs": [
    {
     "name": "stdout",
     "output_type": "stream",
     "text": [
      "+--------------+-----------+----------+--------------+-----------+\n",
      "|     review_id|customer_id|product_id|product_parent|review_date|\n",
      "+--------------+-----------+----------+--------------+-----------+\n",
      "|R20JWFTP4MYWAQ|      10053|B003L2CPW0|     959460701| 2015-05-17|\n",
      "|R3JR51ORU0B3UV|      10117|B00IP99C2U|     730053931| 2014-09-29|\n",
      "| R7YBEPXRM9A5I|      10206|B00F90Y21O|     623397371| 2014-03-12|\n",
      "|R38WUVXO558JZG|      10236|B003842346|     698979028| 2015-07-19|\n",
      "| RH5UQ2T57H9E6|      10272|B000VOJLIC|     236485222| 2015-07-22|\n",
      "| R9HCFAE9GX5G3|      10293|B00NM7NU6E|     184417519| 2014-12-21|\n",
      "|R32Z15CVSFMDK0|      10365|B00H1DVEAY|     657964262| 2015-07-28|\n",
      "| RFS1F128L94K0|      10485|B006NBBOIC|      59130842| 2014-02-28|\n",
      "|R1D0D2UAKZXS43|      10498|B003KJY964|      68318408| 2012-11-25|\n",
      "| RAB30J58FJCON|      10517|B004YDWNHC|     416308773| 2013-06-07|\n",
      "|R13ZZKAI7TDXJZ|      10776|B00DUWN7XW|     721249061| 2015-06-08|\n",
      "| RIEB47POL0NBS|      10807|B00M0J1F62|     775948398| 2015-08-28|\n",
      "|R204ZHFJ8JMWLU|      11067|B00K8U9QI4|     313036956| 2014-07-17|\n",
      "|R1KGXDZPVVHNUE|      11124|B00K7VAIFO|     577837374| 2015-07-25|\n",
      "| RPZ9VM8WLT977|      11284|B00OQAXOYE|     735837847| 2015-08-13|\n",
      "|R2BVTL7ZBU0F1T|      11307|B005ZUH1VG|     246709976| 2013-01-04|\n",
      "|R3SS9RS87QQC9O|      11335|B00GYAXLAG|     775266012| 2015-06-08|\n",
      "|R2YFNO9TT2Z1KN|      11446|B00JIYAGMG|     538796041| 2014-05-25|\n",
      "|R3JTF4FVLZDJIU|      11693|B00DUTZDQO|     552512170| 2013-12-26|\n",
      "|R1HDUDD4YIPEPD|      11784|B006HILLIO|     778608027| 2014-04-19|\n",
      "+--------------+-----------+----------+--------------+-----------+\n",
      "only showing top 20 rows\n",
      "\n"
     ]
    }
   ],
   "source": [
    "review_id_table = dfShoesCleaned.select([\"review_id\",\"customer_id\",\"product_id\",\"product_parent\",\"review_date\"])\n",
    "review_id_table.show()"
   ]
  },
  {
   "cell_type": "code",
   "execution_count": 15,
   "metadata": {
    "colab": {
     "base_uri": "https://localhost:8080/"
    },
    "id": "2RgydkfYS1qC",
    "outputId": "186cb4ca-8e1b-447a-de51-128b5c9dd240"
   },
   "outputs": [
    {
     "name": "stdout",
     "output_type": "stream",
     "text": [
      "+----------+--------------------+\n",
      "|product_id|       product_title|\n",
      "+----------+--------------------+\n",
      "|B003L2CPW0|Champs Cuba Gold ...|\n",
      "|B00IP99C2U|Mary Kay Forever ...|\n",
      "|B00F90Y21O|Apple Iphone 4, 4...|\n",
      "|B003842346|EZ Flow Pastel Co...|\n",
      "|B000VOJLIC|Baldessarini Ambr...|\n",
      "|B00NM7NU6E|Paixpays Cosplay ...|\n",
      "|B00H1DVEAY|White Bobby Pins ...|\n",
      "|B006NBBOIC|Freetress Equal L...|\n",
      "|B003KJY964|Paul Mitchell Tea...|\n",
      "|B004YDWNHC|Luscious Kisses B...|\n",
      "|B00DUWN7XW|Revlon Colorstay ...|\n",
      "|B00M0J1F62|The Veda Company ...|\n",
      "|B00K8U9QI4|DGI MART Party Su...|\n",
      "|B00K7VAIFO|CoverGirl Queen C...|\n",
      "|B00OQAXOYE|SHANY Paraben Fre...|\n",
      "|B005ZUH1VG|Michel Design Wor...|\n",
      "|B00GYAXLAG|Mary Kay Cologne ...|\n",
      "|B00JIYAGMG|The Blades Grim G...|\n",
      "|B00DUTZDQO|TUBE 18pcs Profes...|\n",
      "|B006HILLIO|Karen Low Pure Bl...|\n",
      "+----------+--------------------+\n",
      "only showing top 20 rows\n",
      "\n"
     ]
    }
   ],
   "source": [
    "products = dfShoesCleaned.select([\"product_id\",\"product_title\"])\n",
    "products.show()"
   ]
  },
  {
   "cell_type": "code",
   "execution_count": 16,
   "metadata": {
    "colab": {
     "base_uri": "https://localhost:8080/"
    },
    "id": "Ebs3A-zCUeLd",
    "outputId": "6c9cc0dc-1430-4d4b-ab29-ed87ffd3ee7f"
   },
   "outputs": [
    {
     "name": "stdout",
     "output_type": "stream",
     "text": [
      "+-----------+-----------+--------------+----------+--------------+--------------------+----------------+-----------+-------------+-----------+----+-----------------+--------------------+--------------------+-----------+--------------+\n",
      "|marketplace|customer_id|     review_id|product_id|product_parent|       product_title|product_category|star_rating|helpful_votes|total_votes|vine|verified_purchase|     review_headline|         review_body|review_date|customer_count|\n",
      "+-----------+-----------+--------------+----------+--------------+--------------------+----------------+-----------+-------------+-----------+----+-----------------+--------------------+--------------------+-----------+--------------+\n",
      "|         US|      10053|R20JWFTP4MYWAQ|B003L2CPW0|     959460701|Champs Cuba Gold ...|          Beauty|          5|            1|          1|   N|                Y|Oh does he smell ...|Love it. No compl...| 2015-05-17|             0|\n",
      "|         US|      10104| RYXFP391C0VLY|B006EN98DC|     633927395|Color Charm Perma...|          Beauty|          5|            5|          6|   N|                Y|Wella toner is a ...|Wella toner is a ...| 2014-08-28|             1|\n",
      "|         US|      10117|R3JR51ORU0B3UV|B00IP99C2U|     730053931|Mary Kay Forever ...|          Beauty|          5|            1|          1|   N|                Y| One of my favorites|Love this scent! ...| 2014-09-29|             2|\n",
      "|         US|      10206| R7YBEPXRM9A5I|B00F90Y21O|     623397371|Apple Iphone 4, 4...|          Beauty|          4|            0|          0|   N|                Y|          Great case|I love this case ...| 2014-03-12|             3|\n",
      "|         US|      10236|R38WUVXO558JZG|B003842346|     698979028|EZ Flow Pastel Co...|          Beauty|          2|            1|          1|   N|                Y|           Two Stars|Color is darker t...| 2015-07-19|             4|\n",
      "|         US|      10286|R2RSQBMN4XJ2CS|B002LJUD7S|     222737877|Domire Handbag Po...|          Beauty|          4|            0|          0|   N|                Y|          Cute case!|This case is real...| 2013-06-10|             5|\n",
      "|         US|      10293|R3ARPJZ6I98R2J|B00OQAZ9TM|     765339790|SHANY Bold Lipsti...|          Beauty|          5|            1|          2|   N|                Y|           love it ♥|It goes on great....| 2014-12-28|             6|\n",
      "|         US|      10485| RFS1F128L94K0|B006NBBOIC|      59130842|Freetress Equal L...|          Beauty|          5|            2|          2|   N|                Y|               LOVE!|Beautiful style, ...| 2014-02-28|             7|\n",
      "|         US|      10517| RAB30J58FJCON|B004YDWNHC|     416308773|Luscious Kisses B...|          Beauty|          5|            0|          0|   N|                N|Everything was pe...|Shipping took a l...| 2013-06-07|             8|\n",
      "|         US|      10776|R13ZZKAI7TDXJZ|B00DUWN7XW|     721249061|Revlon Colorstay ...|          Beauty|          5|            0|          0|   N|                Y|i love this found...|i love this found...| 2015-06-08|             9|\n",
      "|         US|      10807| RIEB47POL0NBS|B00M0J1F62|     775948398|The Veda Company ...|          Beauty|          5|            0|          0|   N|                Y|          Five Stars|     Terrific lotion| 2015-08-28|            10|\n",
      "|         US|      11124|R1KGXDZPVVHNUE|B00K7VAIFO|     577837374|CoverGirl Queen C...|          Beauty|          3|            0|          0|   N|                Y|Satisfied with pu...|Lighter than I ex...| 2015-07-25|            11|\n",
      "|         US|      11335|R3SS9RS87QQC9O|B00GYAXLAG|     775266012|Mary Kay Cologne ...|          Beauty|          5|            0|          0|   N|                Y|          Five Stars|Everything came a...| 2015-06-08|            12|\n",
      "|         US|      11577|R2HRS7LBWIRFB0|B00FFKP3I4|     971559469|Beardbrand Beard ...|          Beauty|          5|            0|          0|   N|                N|          Five Stars|Amazing product, ...| 2014-08-16|            13|\n",
      "|         US|      11693|R3JTF4FVLZDJIU|B00DUTZDQO|     552512170|TUBE 18pcs Profes...|          Beauty|          3|            0|          0|   N|                Y|                good|I like this set b...| 2013-12-26|            14|\n",
      "|         US|      12631|R25YJ284LWX42Z|B00FGT51W2|     176406345|Frola Cosmetics P...|          Beauty|          5|            3|          4|   N|                Y|          Love them!|Super soft, great...| 2014-01-12|            15|\n",
      "|         US|      12719|R241LS4D5DT4UX|B00805QJ66|     998579390|Sinful Colors Nai...|          Beauty|          2|            0|          0|   N|                Y|Wrong formula, I ...|I bought the colo...| 2014-08-07|            16|\n",
      "|         US|      12917|R1PINRMVOG0HFV|B009JTZAC6|     736856714|Wet n Wild Color ...|          Beauty|          5|            0|          0|   N|                Y|          Five Stars|      Amazing price.| 2015-03-09|            17|\n",
      "|         US|      13581|R26BJUNRRU6POC|B00I6E3OIC|      85154727|Maybelline New Yo...|          Beauty|          4|            2|          2|   N|                Y|          Four Stars|just what I expected| 2015-02-18|            18|\n",
      "|         US|      13766| R300XKZG0L2JC|B003YCEHXW|     582371975|Keratin Complex C...|          Beauty|          2|            0|          0|   N|                Y|      Watery product|The presentation ...| 2014-08-25|            19|\n",
      "+-----------+-----------+--------------+----------+--------------+--------------------+----------------+-----------+-------------+-----------+----+-----------------+--------------------+--------------------+-----------+--------------+\n",
      "only showing top 20 rows\n",
      "\n"
     ]
    }
   ],
   "source": [
    "from pyspark.sql.functions import monotonically_increasing_id \n",
    "\n",
    "dfShoesCleaned = dfShoesCleaned.select(\"*\").withColumn(\"customer_count\", monotonically_increasing_id())\n",
    "dfShoesCleaned.show()"
   ]
  },
  {
   "cell_type": "code",
   "execution_count": 17,
   "metadata": {
    "colab": {
     "base_uri": "https://localhost:8080/"
    },
    "id": "qWYyteHYTdR7",
    "outputId": "961fa0f0-81a8-4ed0-9b43-ed93a254ed67"
   },
   "outputs": [
    {
     "name": "stdout",
     "output_type": "stream",
     "text": [
      "+-----------+--------------+\n",
      "|customer_id|customer_count|\n",
      "+-----------+--------------+\n",
      "|     455082|             0|\n",
      "|   23797097|             1|\n",
      "|   46012211|             2|\n",
      "|   33869939|             3|\n",
      "|   11227090|             4|\n",
      "|    2895607|             5|\n",
      "|   35253137|             6|\n",
      "|   15206338|             7|\n",
      "|   29071735|             8|\n",
      "|   50032896|             9|\n",
      "|   10132158|            10|\n",
      "|   21721563|            11|\n",
      "|   32879728|            12|\n",
      "|   45170959|            13|\n",
      "|   44371228|            14|\n",
      "|   43615942|            15|\n",
      "|   43340917|            16|\n",
      "|   29348097|            17|\n",
      "|   15338383|            18|\n",
      "|   25923342|            19|\n",
      "+-----------+--------------+\n",
      "only showing top 20 rows\n",
      "\n"
     ]
    }
   ],
   "source": [
    "customers = dfShoesCleaned.select([\"customer_id\",\"customer_count\"])\n",
    "customers.show()"
   ]
  },
  {
   "cell_type": "code",
   "execution_count": 18,
   "metadata": {
    "colab": {
     "base_uri": "https://localhost:8080/"
    },
    "id": "Wz_l39fKVt0-",
    "outputId": "8ea66907-699d-4aae-ff9b-40302f92ff79"
   },
   "outputs": [
    {
     "name": "stdout",
     "output_type": "stream",
     "text": [
      "+--------------+-----------+-------------+-----------+----+\n",
      "|     review_id|star_rating|helpful_votes|total_votes|vine|\n",
      "+--------------+-----------+-------------+-----------+----+\n",
      "|R20JWFTP4MYWAQ|          5|            1|          1|   N|\n",
      "|R3JR51ORU0B3UV|          5|            1|          1|   N|\n",
      "| R7YBEPXRM9A5I|          4|            0|          0|   N|\n",
      "|R38WUVXO558JZG|          2|            1|          1|   N|\n",
      "| RH5UQ2T57H9E6|          5|            0|          0|   N|\n",
      "| R9HCFAE9GX5G3|          5|            0|          0|   N|\n",
      "|R32Z15CVSFMDK0|          3|            1|          1|   N|\n",
      "| RFS1F128L94K0|          5|            2|          2|   N|\n",
      "|R1D0D2UAKZXS43|          2|            0|          0|   N|\n",
      "| RAB30J58FJCON|          5|            0|          0|   N|\n",
      "|R13ZZKAI7TDXJZ|          5|            0|          0|   N|\n",
      "| RIEB47POL0NBS|          5|            0|          0|   N|\n",
      "|R204ZHFJ8JMWLU|          2|            0|          0|   N|\n",
      "|R1KGXDZPVVHNUE|          3|            0|          0|   N|\n",
      "| RPZ9VM8WLT977|          5|            0|          0|   N|\n",
      "|R2BVTL7ZBU0F1T|          5|            1|          1|   N|\n",
      "|R3SS9RS87QQC9O|          5|            0|          0|   N|\n",
      "|R2YFNO9TT2Z1KN|          4|            1|          3|   N|\n",
      "|R3JTF4FVLZDJIU|          3|            0|          0|   N|\n",
      "|R1HDUDD4YIPEPD|          5|            0|          1|   N|\n",
      "+--------------+-----------+-------------+-----------+----+\n",
      "only showing top 20 rows\n",
      "\n"
     ]
    }
   ],
   "source": [
    "vine_table = dfShoesCleaned.select([\"review_id\",\"star_rating\",\"helpful_votes\",\"total_votes\",\"vine\"])\n",
    "vine_table.show()"
   ]
  },
  {
   "cell_type": "code",
   "execution_count": 19,
   "metadata": {
    "id": "TfXPnCKwWOpf"
   },
   "outputs": [],
   "source": [
    "# Configure settings for RDS\n",
    "mode = \"append\"\n",
    "jdbc_url=\"jdbc:postgresql://<connection string>:5432/<database-name>\"\n",
    "config = {\"user\":\"postgres\", \n",
    "          \"password\": \"<password>\", \n",
    "          \"driver\":\"org.postgresql.Driver\"}\n"
   ]
  },
  {
   "cell_type": "code",
   "execution_count": 21,
   "metadata": {
    "id": "ppGY3QpJvFV1"
   },
   "outputs": [],
   "source": [
    "review_id_table.write.jdbc(url=jdbc_url, table='review_id_table', mode=mode, properties=config)"
   ]
  },
  {
   "cell_type": "code",
   "execution_count": 22,
   "metadata": {
    "id": "OzNRlzLlvEHy"
   },
   "outputs": [],
   "source": [
    "products.write.jdbc(url=jdbc_url, table='products', mode=mode, properties=config)"
   ]
  },
  {
   "cell_type": "code",
   "execution_count": 23,
   "metadata": {
    "id": "9yyZgvcUnaNN"
   },
   "outputs": [],
   "source": [
    "customers.write.jdbc(url=jdbc_url, table='customers', mode=mode, properties=config)"
   ]
  },
  {
   "cell_type": "code",
   "execution_count": 24,
   "metadata": {
    "id": "vF79O__QlMSJ"
   },
   "outputs": [],
   "source": [
    "vine_table.write.jdbc(url=jdbc_url, table='vine_table', mode=mode, properties=config)"
   ]
  }
 ],
 "metadata": {
  "colab": {
   "collapsed_sections": [],
   "provenance": []
  },
  "kernelspec": {
   "display_name": "Python 3 (ipykernel)",
   "language": "python",
   "name": "python3"
  },
  "language_info": {
   "codemirror_mode": {
    "name": "ipython",
    "version": 3
   },
   "file_extension": ".py",
   "mimetype": "text/x-python",
   "name": "python",
   "nbconvert_exporter": "python",
   "pygments_lexer": "ipython3",
   "version": "3.9.12"
  }
 },
 "nbformat": 4,
 "nbformat_minor": 1
}
