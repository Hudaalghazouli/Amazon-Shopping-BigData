{
 "cells": [
  {
   "cell_type": "code",
   "execution_count": 1,
   "metadata": {
    "colab": {
     "base_uri": "https://localhost:8080/"
    },
    "id": "U0zZ_92l9rmB",
    "outputId": "d9a2bf53-0039-4d1f-d2c7-6ab0be83f6b0"
   },
   "outputs": [
    {
     "name": "stdout",
     "output_type": "stream",
     "text": [
      "\r",
      "0% [Working]\r",
      "            \r",
      "Get:1 https://cloud.r-project.org/bin/linux/ubuntu bionic-cran40/ InRelease [3,626 B]\n",
      "\r",
      "0% [Connecting to archive.ubuntu.com] [Connecting to security.ubuntu.com (185.1\r",
      "0% [Connecting to archive.ubuntu.com] [Connecting to security.ubuntu.com (185.1\r",
      "0% [1 InRelease gpgv 3,626 B] [Connecting to archive.ubuntu.com (91.189.91.39)]\r",
      "                                                                               \r",
      "Ign:2 https://developer.download.nvidia.com/compute/machine-learning/repos/ubuntu1804/x86_64  InRelease\n",
      "\r",
      "0% [1 InRelease gpgv 3,626 B] [Waiting for headers] [Waiting for headers] [Wait\r",
      "                                                                               \r",
      "Hit:3 https://developer.download.nvidia.com/compute/cuda/repos/ubuntu1804/x86_64  InRelease\n",
      "\r",
      "0% [1 InRelease gpgv 3,626 B] [Waiting for headers] [Waiting for headers] [Wait\r",
      "                                                                               \r",
      "Hit:4 https://developer.download.nvidia.com/compute/machine-learning/repos/ubuntu1804/x86_64  Release\n",
      "\r",
      "0% [1 InRelease gpgv 3,626 B] [Waiting for headers] [Waiting for headers] [Wait\r",
      "                                                                               \r",
      "Get:5 http://security.ubuntu.com/ubuntu bionic-security InRelease [88.7 kB]\n",
      "Get:6 http://ppa.launchpad.net/c2d4u.team/c2d4u4.0+/ubuntu bionic InRelease [15.9 kB]\n",
      "Hit:7 http://ppa.launchpad.net/cran/libgit2/ubuntu bionic InRelease\n",
      "Hit:8 http://archive.ubuntu.com/ubuntu bionic InRelease\n",
      "Get:9 http://archive.ubuntu.com/ubuntu bionic-updates InRelease [88.7 kB]\n",
      "Hit:10 http://ppa.launchpad.net/deadsnakes/ppa/ubuntu bionic InRelease\n",
      "Hit:12 http://ppa.launchpad.net/graphics-drivers/ppa/ubuntu bionic InRelease\n",
      "Get:13 http://ppa.launchpad.net/c2d4u.team/c2d4u4.0+/ubuntu bionic/main Sources [2,220 kB]\n",
      "Get:14 http://security.ubuntu.com/ubuntu bionic-security/universe amd64 Packages [1,559 kB]\n",
      "Get:15 http://security.ubuntu.com/ubuntu bionic-security/multiverse amd64 Packages [22.8 kB]\n",
      "Get:16 http://security.ubuntu.com/ubuntu bionic-security/main amd64 Packages [3,065 kB]\n",
      "Get:17 http://archive.ubuntu.com/ubuntu bionic-backports InRelease [83.3 kB]\n",
      "Get:18 http://security.ubuntu.com/ubuntu bionic-security/restricted amd64 Packages [1,262 kB]\n",
      "Get:19 http://ppa.launchpad.net/c2d4u.team/c2d4u4.0+/ubuntu bionic/main amd64 Packages [1,135 kB]\n",
      "Get:20 http://archive.ubuntu.com/ubuntu bionic-updates/multiverse amd64 Packages [29.9 kB]\n",
      "Get:21 http://archive.ubuntu.com/ubuntu bionic-updates/universe amd64 Packages [2,333 kB]\n",
      "Get:22 http://archive.ubuntu.com/ubuntu bionic-updates/restricted amd64 Packages [1,303 kB]\n",
      "Get:23 http://archive.ubuntu.com/ubuntu bionic-updates/main amd64 Packages [3,493 kB]\n",
      "Fetched 16.7 MB in 3min 6s (89.9 kB/s)\n",
      "Reading package lists... Done\n"
     ]
    }
   ],
   "source": [
    "import os\n",
    "# Find the latest version of spark 3.2  from http://www.apache.org/dist/spark/ and enter as the spark version\n",
    "# For example:\n",
    "# spark_version = 'spark-3.2.2'\n",
    "spark_version = 'spark-3.2.2'\n",
    "os.environ['SPARK_VERSION']=spark_version\n",
    "\n",
    "# Install Spark and Java\n",
    "!apt-get update\n",
    "!apt-get install openjdk-8-jdk-headless -qq > /dev/null\n",
    "!wget -q http://www.apache.org/dist/spark/$SPARK_VERSION/$SPARK_VERSION-bin-hadoop2.7.tgz\n",
    "!tar xf $SPARK_VERSION-bin-hadoop2.7.tgz\n",
    "!pip install -q findspark\n",
    "\n",
    "# Set Environment Variables\n",
    "os.environ[\"JAVA_HOME\"] = \"/usr/lib/jvm/java-8-openjdk-amd64\"\n",
    "os.environ[\"SPARK_HOME\"] = f\"/content/{spark_version}-bin-hadoop2.7\"\n",
    "\n",
    "# Start a SparkSession\n",
    "import findspark\n",
    "findspark.init()"
   ]
  },
  {
   "cell_type": "code",
   "execution_count": 2,
   "metadata": {
    "id": "21VIzGHIioxp"
   },
   "outputs": [],
   "source": [
    "from pyspark.sql import SparkSession\n",
    "spark = SparkSession.builder.appName(\"CloudETLProject\").getOrCreate()"
   ]
  },
  {
   "cell_type": "code",
   "execution_count": 5,
   "metadata": {
    "colab": {
     "base_uri": "https://localhost:8080/"
    },
    "id": "dpiM05YC-H6F",
    "outputId": "5b2d8fd7-f46e-459f-e342-682583dddc7a"
   },
   "outputs": [
    {
     "name": "stdout",
     "output_type": "stream",
     "text": [
      "+-----------+-----------+--------------+----------+--------------+--------------------+----------------+-----------+-------------+-----------+----+-----------------+--------------------+--------------------+-----------+\n",
      "|marketplace|customer_id|     review_id|product_id|product_parent|       product_title|product_category|star_rating|helpful_votes|total_votes|vine|verified_purchase|     review_headline|         review_body|review_date|\n",
      "+-----------+-----------+--------------+----------+--------------+--------------------+----------------+-----------+-------------+-----------+----+-----------------+--------------------+--------------------+-----------+\n",
      "|         US|   18069663|R3P2HIOQCIN5ZU|B000XB31C0|     265024781|Minnetonka Men's ...|           Shoes|          1|            0|          0|   N|                Y|                   .|Do not buy: reall...| 2015-08-31|\n",
      "|         US|   16251825|R12VVR0WH5Q24V|B00CFYZH5W|     259035853|Teva Men's Pajaro...|           Shoes|          5|            0|          0|   N|                Y|     super flip flop|provides great cu...| 2015-08-31|\n",
      "|         US|   20381037| RNCCKB6TV5EEF|B00S8JNN3Q|     666066660|Anne Klein Perfec...|           Shoes|          4|            0|          0|   N|                Y| Great clutch purse!|It's perfect if y...| 2015-08-31|\n",
      "|         US|     108364|R2NZXYIVCGB13W|B00XFBPOQG|     448483263|adidas Men's 10K ...|           Shoes|          5|            0|          6|   N|                Y|              Badass|  Getting what u see| 2015-08-31|\n",
      "|         US|   45449350|R2EQ1TG9IT3OEQ|B00SW64Y9W|       7853171|OverBling Sneaker...|           Shoes|          3|            0|          0|   N|                Y|         Three Stars|               small| 2015-08-31|\n",
      "|         US|   19324665|R1WXA9JSC2H1U1|B011F9E6LI|      14311457|MESSI 15.3 FG/AG ...|           Shoes|          5|            1|          1|   N|                Y|          Five Stars|My 13 year old so...| 2015-08-31|\n",
      "|         US|   50073594|R12ENYLFGGNWRV|B00HAUP1OI|     264821602|Hoka One One Men'...|           Shoes|          5|            1|          1|   N|                Y|Finally, some cus...|Ok, I have been s...| 2015-08-31|\n",
      "|         US|   21706057|R2R07E5PNXEUO5|B00L1RKOKW|     767118055|Olukai Nohea Mesh...|           Shoes|          4|            0|          0|   N|                Y|good deal, but ha...|I went a full siz...| 2015-08-31|\n",
      "|         US|   13708216|R27BA52AKWMWN3|B005WA9MSE|     813856438|Carolina Mens 6\" ...|           Shoes|          5|            0|          0|   N|                Y|... would have to...|I would have to s...| 2015-08-31|\n",
      "|         US|   40542649| RLF8DOID2KD5O|B00BEYQI5C|     661491213|Alegria Women's S...|           Shoes|          3|            0|          0|   N|                Y|           Too small|The size is misle...| 2015-08-31|\n",
      "+-----------+-----------+--------------+----------+--------------+--------------------+----------------+-----------+-------------+-----------+----+-----------------+--------------------+--------------------+-----------+\n",
      "only showing top 10 rows\n",
      "\n"
     ]
    }
   ],
   "source": [
    "from pyspark import SparkFiles\n",
    "url = \"https://s3.amazonaws.com/amazon-reviews-pds/tsv/amazon_reviews_us_Shoes_v1_00.tsv.gz\"\n",
    "spark.sparkContext.addFile(url)\n",
    "\n",
    "dfShoes = spark.read.option(\"sep\", \"\\t\").csv(\"file://\" + SparkFiles.get(\"amazon_reviews_us_Shoes_v1_00.tsv.gz\"), header=True)\n",
    "dfShoes.show(10)"
   ]
  },
  {
   "cell_type": "code",
   "execution_count": 6,
   "metadata": {
    "colab": {
     "base_uri": "https://localhost:8080/"
    },
    "id": "SRPxMrrSJVoZ",
    "outputId": "8b4207e1-d24f-4af0-d3d5-cb897102e28c"
   },
   "outputs": [
    {
     "name": "stdout",
     "output_type": "stream",
     "text": [
      "+-----------+-----------+--------------+----------+--------------+--------------------+----------------+-----------+-------------+-----------+----+-----------------+--------------------+--------------------+-----------+\n",
      "|marketplace|customer_id|     review_id|product_id|product_parent|       product_title|product_category|star_rating|helpful_votes|total_votes|vine|verified_purchase|     review_headline|         review_body|review_date|\n",
      "+-----------+-----------+--------------+----------+--------------+--------------------+----------------+-----------+-------------+-----------+----+-----------------+--------------------+--------------------+-----------+\n",
      "|         US|   18069663|R3P2HIOQCIN5ZU|B000XB31C0|     265024781|Minnetonka Men's ...|           Shoes|          1|            0|          0|   N|                Y|                   .|Do not buy: reall...| 2015-08-31|\n",
      "|         US|   16251825|R12VVR0WH5Q24V|B00CFYZH5W|     259035853|Teva Men's Pajaro...|           Shoes|          5|            0|          0|   N|                Y|     super flip flop|provides great cu...| 2015-08-31|\n",
      "|         US|   20381037| RNCCKB6TV5EEF|B00S8JNN3Q|     666066660|Anne Klein Perfec...|           Shoes|          4|            0|          0|   N|                Y| Great clutch purse!|It's perfect if y...| 2015-08-31|\n",
      "|         US|     108364|R2NZXYIVCGB13W|B00XFBPOQG|     448483263|adidas Men's 10K ...|           Shoes|          5|            0|          6|   N|                Y|              Badass|  Getting what u see| 2015-08-31|\n",
      "|         US|   45449350|R2EQ1TG9IT3OEQ|B00SW64Y9W|       7853171|OverBling Sneaker...|           Shoes|          3|            0|          0|   N|                Y|         Three Stars|               small| 2015-08-31|\n",
      "|         US|   19324665|R1WXA9JSC2H1U1|B011F9E6LI|      14311457|MESSI 15.3 FG/AG ...|           Shoes|          5|            1|          1|   N|                Y|          Five Stars|My 13 year old so...| 2015-08-31|\n",
      "|         US|   50073594|R12ENYLFGGNWRV|B00HAUP1OI|     264821602|Hoka One One Men'...|           Shoes|          5|            1|          1|   N|                Y|Finally, some cus...|Ok, I have been s...| 2015-08-31|\n",
      "|         US|   21706057|R2R07E5PNXEUO5|B00L1RKOKW|     767118055|Olukai Nohea Mesh...|           Shoes|          4|            0|          0|   N|                Y|good deal, but ha...|I went a full siz...| 2015-08-31|\n",
      "|         US|   13708216|R27BA52AKWMWN3|B005WA9MSE|     813856438|Carolina Mens 6\" ...|           Shoes|          5|            0|          0|   N|                Y|... would have to...|I would have to s...| 2015-08-31|\n",
      "|         US|   40542649| RLF8DOID2KD5O|B00BEYQI5C|     661491213|Alegria Women's S...|           Shoes|          3|            0|          0|   N|                Y|           Too small|The size is misle...| 2015-08-31|\n",
      "|         US|   13409446|R369CEXHXHC6NQ|B00EYAFTCQ|     332158165|Naturalizer Women...|           Shoes|          5|            0|          0|   N|                Y|          Five Stars|These shoes are v...| 2015-08-31|\n",
      "|         US|    9451727|R171PPIJXFONVI|B00I0QHY32|      49243908|Forever Link Wome...|           Shoes|          5|            0|          0|   N|                Y|          Five Stars|I love these sand...| 2015-08-31|\n",
      "|         US|     193731|R2JDNM8F2P06FU|B010FZZKYA|     161497902|Versace Collectio...|           Shoes|          4|            1|          1|   N|                Y|          Four Stars|Good quality shoe...| 2015-08-31|\n",
      "|         US|   34798634|R2W977FO4M97XT|B00V8B30K2|     759958795|Twisted Girl's Ch...|           Shoes|          5|            0|          1|   N|                Y|Good shoes, comfo...|My daughter reall...| 2015-08-31|\n",
      "|         US|   37235551|R3AM24QPLI28UY|B00LAVB1TC|     910150896|Travel Smart Hand...|           Shoes|          2|            1|          2|   N|                Y|           Two Stars|         It's okay .| 2015-08-31|\n",
      "|         US|   27081399| REDVXSFYVNT5T|B003C1P8B0|     762792587|Saucony Originals...|           Shoes|          5|            0|          0|   N|                Y|    Love these shoes|Love these shoes!...| 2015-08-31|\n",
      "|         US|     120678|R14AIIK7D6ENDZ|B000W3UL7W|     123724495|Dr. Marten's Wome...|           Shoes|          5|            0|          0|   N|                Y|          Five Stars|                Good| 2015-08-31|\n",
      "|         US|   22272389|R3B1NURKMCVAL1|B00LX65PQO|     848850234|Skechers Performa...|           Shoes|          3|            2|          2|   N|                Y|         Three Stars|I like the go wal...| 2015-08-31|\n",
      "|         US|   19584241|R14Q1GZGV10IMX|B00BEE7N3I|     211637196|Hi-Tec Kid's Nepa...|           Shoes|          4|            0|          0|   N|                Y|          Four Stars|Kids love them fo...| 2015-08-31|\n",
      "|         US|   12334573| R9BHBB06QD6TM|B008NCHMBW|     138572112|Foot Sox Original...|           Shoes|          1|            2|          2|   N|                Y|Tissue paper is t...|Tissue paper is t...| 2015-08-31|\n",
      "+-----------+-----------+--------------+----------+--------------+--------------------+----------------+-----------+-------------+-----------+----+-----------------+--------------------+--------------------+-----------+\n",
      "only showing top 20 rows\n",
      "\n"
     ]
    }
   ],
   "source": [
    "dropna_df = dfShoes.dropna(how='any')\n",
    "dropna_df.show()"
   ]
  },
  {
   "cell_type": "code",
   "execution_count": 7,
   "metadata": {
    "colab": {
     "base_uri": "https://localhost:8080/"
    },
    "id": "t_ftd4qqJVoa",
    "outputId": "2ed81a9b-ade2-4cea-d5d9-5af54c06d929"
   },
   "outputs": [
    {
     "name": "stdout",
     "output_type": "stream",
     "text": [
      "+-----------+-----------+--------------+----------+--------------+--------------------+----------------+-----------+-------------+-----------+----+-----------------+--------------------+--------------------+-----------+\n",
      "|marketplace|customer_id|     review_id|product_id|product_parent|       product_title|product_category|star_rating|helpful_votes|total_votes|vine|verified_purchase|     review_headline|         review_body|review_date|\n",
      "+-----------+-----------+--------------+----------+--------------+--------------------+----------------+-----------+-------------+-----------+----+-----------------+--------------------+--------------------+-----------+\n",
      "|         US|   28419055|R2A4N5UIA3H3ZO|0456787283|     163175355|FX1 Small Adult A...|           Shoes|          1|            1|          1|   N|                Y|     still too large|I bought these wi...| 2013-03-16|\n",
      "|         US|   35303306| RU03YWQYD7VIN|345200015X|     935911590|Mirage Sunglasses...|           Shoes|          5|            0|          0|   N|                N|          Five Stars|           just fine| 2014-09-11|\n",
      "|         US|   28667510|R1H24LZZNVS83M|8742245117|     684664927|Hot Pink Canvas S...|           Shoes|          3|            0|          0|   N|                Y|                Cute|This wallet is cu...| 2013-06-26|\n",
      "|         US|   30367777|R1JIQ4524VERKC|9128500059|     911496574|Flip and Tumble L...|           Shoes|          5|            0|          0|   N|                Y|Flip and Tumble L...|Over the last yea...| 2009-05-19|\n",
      "|         US|    9370784|R1GLAP8NYQ2EA3|B00004VWJ1|     686597599|Birki's Super Bla...|           Shoes|          5|            0|          0|   N|                N|love it and it wa...|My son loves it a...| 2013-01-09|\n",
      "|         US|   19286908|R1Y5Z5P4APS0S4|B00004VWJ7|     686597599|Birki's Super Bir...|           Shoes|          5|            0|          0|   N|                Y|          Five Stars|if your a chef bu...| 2015-04-29|\n",
      "|         US|   41722120|R2A1WJ6IOBBTWT|B00004VWK5|     686597599|Birki's Super Bir...|           Shoes|          5|            0|          0|   N|                Y|       Great quality|Arrived quickly a...| 2015-04-21|\n",
      "|         US|   33665954|R22WZDR7H1LCOP|B0000644OX|     240980705|Women's Rhineston...|           Shoes|          3|            0|          0|   N|                N|              OUCH!!|they're really cu...| 2003-01-14|\n",
      "|         US|   12937727|R3A9TAWASME70D|B0000644Z0|     626916650|Women's CanvasMul...|           Shoes|          5|            0|          0|   N|                N|Please put these ...|I work in the hot...| 2005-07-15|\n",
      "|         US|   31540819| RQ2X5Y5YU1CWR|B000066QBB|     476038244|Girls' Crisscross...|           Shoes|          4|            0|          0|   N|                N|               Comfy|Look very comfort...| 2003-04-21|\n",
      "|         US|   51874517|R2VGJFXFZJ2Y0L|B00006NVJ6|     217427466|Nordstrom 'Kendra...|           Shoes|          3|            0|          1|   N|                N|             sandals|I LIKE THIS NEW W...| 2002-11-10|\n",
      "|         US|   43118778|R2I0B57LRSYL22|B00006NYVM|     872508080|Cole Haan 'Braddo...|           Shoes|          4|            0|          0|   N|                N|Cole Haan Braddoc...|I purchased a pai...| 2002-11-07|\n",
      "|         US|   52222947|R18TQL90MDVUNK|B00006SJSM|     587129075|Allen-Edmonds 'By...|           Shoes|          5|            3|          3|   N|                N|Comfortable and C...|These are the mos...| 2002-11-01|\n",
      "|         US|   32571708|R220IWFQ6QV34U|B00006T2I8|     811645111|Hype 'Twinkle' Sl...|           Shoes|          4|            0|          0|   N|                N|ya had plenty mon...|These shoes are m...| 2003-03-05|\n",
      "|         US|   51088716| RL030H4771LRX|B00006TO69|     682044124|Johnston & Murphy...|           Shoes|          5|            3|          3|   N|                N|These are great s...|The shoes themsel...| 2004-07-21|\n",
      "|         US|   52452201| RK7O2IHMXFDX2|B00006TTNJ|     753010933|Skechers 'Checkma...|           Shoes|          2|            0|          0|   N|                N|    Disposable shoes|At first I though...| 2004-03-29|\n",
      "|         US|   52171158|R1JEGARS051U8X|B00006TTZH|     664345358|Clarks England 'Z...|           Shoes|          5|            1|          1|   N|                N|Fabulously comfor...|These shoes witho...| 2003-06-04|\n",
      "|         US|   33312908|R103I08DJBPR7U|B00006U8YC|     895145062|Reaction Kenneth ...|           Shoes|          5|            0|          0|   N|                N|The most comforta...|I am not a huge f...| 2002-12-28|\n",
      "|         US|   52085846|R29SQ11FZKRE8Z|B00006VZV9|      10938789|Calson USA 'Dalla...|           Shoes|          4|            0|          0|   N|                N|Good Price on a F...|Nice styling in a...| 2003-11-12|\n",
      "|         US|   52393648| RVOXVWAVGCTK4|B00006W5O5|     191484659|Cole Haan 'Air Ta...|           Shoes|          5|            2|          2|   N|                N|PERFECT MARRIAGE ...|Have been wearing...| 2003-01-27|\n",
      "+-----------+-----------+--------------+----------+--------------+--------------------+----------------+-----------+-------------+-----------+----+-----------------+--------------------+--------------------+-----------+\n",
      "only showing top 20 rows\n",
      "\n"
     ]
    }
   ],
   "source": [
    "dfShoesCleaned = dropna_df.dropDuplicates(['product_id'])\n",
    "dfShoesCleaned.show()"
   ]
  },
  {
   "cell_type": "code",
   "execution_count": 8,
   "metadata": {
    "colab": {
     "base_uri": "https://localhost:8080/"
    },
    "id": "UX9mTJ1vJVoa",
    "outputId": "b0ec3d9e-2115-4dcc-9e5f-faa1edc7fdaa"
   },
   "outputs": [
    {
     "data": {
      "text/plain": [
       "1900895"
      ]
     },
     "execution_count": 8,
     "metadata": {},
     "output_type": "execute_result"
    }
   ],
   "source": [
    "rows = dfShoesCleaned.count()\n",
    "rows"
   ]
  },
  {
   "cell_type": "code",
   "execution_count": 9,
   "metadata": {
    "colab": {
     "base_uri": "https://localhost:8080/"
    },
    "id": "HffurH0MJVoa",
    "outputId": "ac961b0f-7ec0-468e-b69e-09f79ae0b57b"
   },
   "outputs": [
    {
     "name": "stdout",
     "output_type": "stream",
     "text": [
      "+-----------+-----------+--------------+----------+--------------+--------------------+----------------+-----------+-------------+-----------+----+-----------------+--------------------+--------------------+-----------+\n",
      "|marketplace|customer_id|     review_id|product_id|product_parent|       product_title|product_category|star_rating|helpful_votes|total_votes|vine|verified_purchase|     review_headline|         review_body|review_date|\n",
      "+-----------+-----------+--------------+----------+--------------+--------------------+----------------+-----------+-------------+-----------+----+-----------------+--------------------+--------------------+-----------+\n",
      "|         US|   10000018|R3SFRG4CC8CT57|B009YSYE06|       6815942|Report Women's Le...|           Shoes|          3|            0|          0|   N|                Y|           Just okay|I must say these ...| 2013-10-23|\n",
      "|         US|   10000144|R1WZNG45ZG9IRL|B00FAKP9M4|     376417938|Easy Street Women...|           Shoes|          4|            1|          1|   N|                Y|               Great|They are quite co...| 2014-10-13|\n",
      "|         US|   10000216|R363YWD0TG0A5I|B00IUYT9BE|     562516286|New Balance Women...|           Shoes|          4|            0|          0|   N|                Y|          Four Stars|           Love them| 2015-01-05|\n",
      "|         US|   10000387| RR6P4IIPIQOOF|B00BLFL34K|     240876511|SeaVees Men's 12-...|           Shoes|          2|            0|          1|   N|                Y|               Color|Returned  the sho...| 2014-03-28|\n",
      "|         US|   10000472|R31E6LGZHNYBVL|B00W0S2RMY|     689481288|GUESS Women's Ely...|           Shoes|          5|            0|          0|   N|                Y|          Five Stars|Love it, cute and...| 2015-06-25|\n",
      "|         US|   10000863| RRE8PFBL96RCJ|B006SDPT9K|     986829815|Mavic Mountain Bi...|           Shoes|          5|            0|          0|   N|                Y|  I love these shoes|I love these shoe...| 2015-05-12|\n",
      "|         US|   10001576|R1P500H5LZYJ7Y|B005EJ6STO|     107059493|Stride Rite Spide...|           Shoes|          4|            0|          0|   N|                Y|          Four Stars|           very good| 2014-07-18|\n",
      "|         US|   10001603| RGWDC4UJBOOJO|B002HK2EW8|     233590058|Ros Hommerson Wom...|           Shoes|          3|            0|          0|   N|                Y|Not what i expected.|The style is nice...| 2014-09-25|\n",
      "|         US|    1000197|R28C6BW5UKHOJL|B00G3DINOS|     588378065|ECCO Women's Touc...|           Shoes|          5|            0|          0|   N|                Y|          Five Stars|Feet size is 23.5...| 2015-06-21|\n",
      "|         US|   10002417| R7LBOF3XBW65U|B006YD74C4|     109046161|Coach Women's Sue...|           Shoes|          5|            0|          0|   N|                Y|The shoe fits gre...|The shoe fits gre...| 2015-03-23|\n",
      "|         US|   10002529| R8OOZ6Q78D2OS|B00FYS86L8|     300391127|Hello Kitty Hello...|           Shoes|          4|            0|          0|   N|                Y|this is a very ni...|gave to my sister...| 2015-07-19|\n",
      "|         US|   10002593| RE8492BPRCRE8|B006QIPA7I|     357222312|Bogs Glosh Waterp...|           Shoes|          5|            0|          0|   N|                Y|   perfect rain boot|I bought them for...| 2013-11-03|\n",
      "|         US|   10002705|R2N86TBZRQIQZ5|B002JM0BVU|     441270212|Crocs Girls' Keel...|           Shoes|          4|            0|          0|   N|                Y|         so cute !!!|i liked these pai...| 2012-10-17|\n",
      "|         US|   10002915|R1S62HIL6D5CAF|B00BPXYQCE|     848045288|Mephisto Women's ...|           Shoes|          3|            1|          1|   N|                Y|          frili boot|I loved the softn...| 2013-12-26|\n",
      "|         US|   10002922|R32UKM5Y8WB9NV|B00DBL4PVK|     713462029|Nine West Women's...|           Shoes|          5|            0|          0|   N|                Y|       Amazing deal!|I love these shoe...| 2014-04-12|\n",
      "|         US|    1000308| RK1Y2D9KT94XN|B00FWQ4N8C|     612064304|Volatile Women's ...|           Shoes|          5|            1|          1|   N|                Y|          Five Stars|Love these shoes!...| 2015-04-14|\n",
      "|         US|   10003220|R1LJHZ8PE4JSYG|B006ORU95O|     511927754|adidas Fast TR Ru...|           Shoes|          1|            0|          0|   N|                Y|the adhesive mate...|the item came wit...| 2013-01-22|\n",
      "|         US|    1000354|R1KM3FS3L66VFK|B0099NB0DA|     645711510|Bates Men's Zero ...|           Shoes|          4|            0|          1|   N|                Y|          Four Stars|                good| 2014-10-23|\n",
      "|         US|   10003652| REUF3FJ5BEIQ4|B00MEX414W|     420353378|Max Collection Ma...|           Shoes|          5|            0|          0|   N|                Y|          Five Stars|Item arrived by s...| 2015-01-06|\n",
      "|         US|   10003819| RLJNM3VIN1YWM|B002GHCN4Q|     858771313|Cole Haan Men's W...|           Shoes|          3|            0|          0|   N|                Y|Better Looking Th...|I wear a 6 AA wid...| 2011-03-26|\n",
      "+-----------+-----------+--------------+----------+--------------+--------------------+----------------+-----------+-------------+-----------+----+-----------------+--------------------+--------------------+-----------+\n",
      "only showing top 20 rows\n",
      "\n"
     ]
    }
   ],
   "source": [
    "dfShoesCleaned = dfShoesCleaned.dropDuplicates(['customer_id'])\n",
    "dfShoesCleaned.show()"
   ]
  },
  {
   "cell_type": "code",
   "execution_count": 10,
   "metadata": {
    "colab": {
     "base_uri": "https://localhost:8080/"
    },
    "id": "yIQbNjfQJVoa",
    "outputId": "b0595e05-36c2-42ef-d2ee-03f4e70602d6"
   },
   "outputs": [
    {
     "data": {
      "text/plain": [
       "1364720"
      ]
     },
     "execution_count": 10,
     "metadata": {},
     "output_type": "execute_result"
    }
   ],
   "source": [
    "rows2 = dfShoesCleaned.count()\n",
    "rows2"
   ]
  },
  {
   "cell_type": "code",
   "execution_count": 11,
   "metadata": {
    "colab": {
     "base_uri": "https://localhost:8080/"
    },
    "id": "TOTHYPrnJVob",
    "outputId": "d1202832-c266-4919-9de6-abce3e6c11a5"
   },
   "outputs": [
    {
     "name": "stdout",
     "output_type": "stream",
     "text": [
      "+--------------+-----------+----------+--------------+-----------+\n",
      "|     review_id|customer_id|product_id|product_parent|review_date|\n",
      "+--------------+-----------+----------+--------------+-----------+\n",
      "|R3SFRG4CC8CT57|   10000018|B009YSYE06|       6815942| 2013-10-23|\n",
      "|R36L1VQP51OMOU|   10000023|B002WRGVV6|     651010533| 2012-03-21|\n",
      "|R2L4WAOM758QSD|   10000064|B008B1ZDC0|     569257823| 2013-06-17|\n",
      "|R2NFLNPUCGZR2G|    1000011|B004LF3MZ0|     148862416| 2014-10-16|\n",
      "|R2TE4JIZBYZYDG|   10000127|B007R0TFHA|     184377633| 2013-01-19|\n",
      "|R2WPRQYEQN3N88|   10000128|B000FBRR14|     675121801| 2010-12-08|\n",
      "|R35B6YD5GGCFCH|   10000141|B003INN6RK|     469558458| 2012-01-09|\n",
      "|R1WZNG45ZG9IRL|   10000144|B00FAKP9M4|     376417938| 2014-10-13|\n",
      "|R157L8L3MYG9P7|    1000022|B00PVHJRZG|     407241419| 2015-01-17|\n",
      "|R31V4JDBVFP1AX|   10000345|B006ZF39KW|      66656225| 2013-08-16|\n",
      "| RR6P4IIPIQOOF|   10000387|B00BLFL34K|     240876511| 2014-03-28|\n",
      "|R1Y2NY9RTJAPO0|   10000393|B000GCAXKE|     226584928| 2013-11-20|\n",
      "| RBF1URHK5SL1C|    1000041|B00JGNGONY|      64604592| 2014-12-30|\n",
      "|R31E6LGZHNYBVL|   10000472|B00W0S2RMY|     689481288| 2015-06-25|\n",
      "|R32IPCQ29TUK28|   10000485|B00HHYFND6|     953802173| 2015-05-08|\n",
      "|R1JKD11XRNV5BU|   10000524|B00774FXH2|     389411498| 2013-05-17|\n",
      "| RXSZEC6OBNUAH|   10000585|B008JE51DK|     791867973| 2014-06-11|\n",
      "| RK8W8GX7VVC98|   10000737|B0085DA7E8|     137690210| 2013-05-26|\n",
      "|R1EYHCIUQAVBLN|   10000795|B005AL96BI|     374796251| 2014-02-04|\n",
      "|R28K25C9ROAJUI|     100008|B007S0DCVO|      43530683| 2013-12-04|\n",
      "+--------------+-----------+----------+--------------+-----------+\n",
      "only showing top 20 rows\n",
      "\n"
     ]
    }
   ],
   "source": [
    "review_id_table_shoes = dfShoesCleaned.select([\"review_id\",\"customer_id\",\"product_id\",\"product_parent\",\"review_date\"])\n",
    "review_id_table_shoes.show()"
   ]
  },
  {
   "cell_type": "code",
   "execution_count": 12,
   "metadata": {
    "colab": {
     "base_uri": "https://localhost:8080/"
    },
    "id": "3EYSARmBJVob",
    "outputId": "5a65363e-74ed-4ede-cb8e-67920b15375b"
   },
   "outputs": [
    {
     "name": "stdout",
     "output_type": "stream",
     "text": [
      "+----------+--------------------+\n",
      "|product_id|       product_title|\n",
      "+----------+--------------------+\n",
      "|B009YSYE06|Report Women's Le...|\n",
      "|B002WRGVV6|Nine West Women's...|\n",
      "|B008B1ZDC0|Sanuk Men's Chum ...|\n",
      "|B004LF3MZ0|Nike Men's Air Ma...|\n",
      "|B007R0TFHA|Wanted Shoes Wome...|\n",
      "|B000FBRR14|adidas Men's Smit...|\n",
      "|B003INN6RK|GUESS Women's Ade...|\n",
      "|B00FAKP9M4|Easy Street Women...|\n",
      "|B00PVHJRZG|Coach Darcy Leath...|\n",
      "|B006ZF39KW|Southpole DIESEL ...|\n",
      "|B00BLFL34K|SeaVees Men's 12-...|\n",
      "|B000GCAXKE|Deer Stags Kids B...|\n",
      "|B00JGNGONY|FURLA Metropolis ...|\n",
      "|B00W0S2RMY|GUESS Women's Ely...|\n",
      "|B00HHYFND6|Mizuno Men's Wave...|\n",
      "|B00774FXH2|Bass Men's Larson...|\n",
      "|B008JE51DK|Dansko Women's Pi...|\n",
      "|B0085DA7E8|Teva Women's Numa...|\n",
      "|B005AL96BI|Diane von Fursten...|\n",
      "|B007S0DCVO|Osiris NYC 83 Ska...|\n",
      "+----------+--------------------+\n",
      "only showing top 20 rows\n",
      "\n"
     ]
    }
   ],
   "source": [
    "products_shoes = dfShoesCleaned.select([\"product_id\",\"product_title\"])\n",
    "products_shoes.show()"
   ]
  },
  {
   "cell_type": "code",
   "execution_count": 14,
   "metadata": {
    "colab": {
     "base_uri": "https://localhost:8080/"
    },
    "id": "S0zZIp80JVob",
    "outputId": "eaa0a776-06f4-4c2b-e162-fb4a30168164"
   },
   "outputs": [
    {
     "name": "stdout",
     "output_type": "stream",
     "text": [
      "+-----------+-----------+--------------+----------+--------------+--------------------+----------------+-----------+-------------+-----------+----+-----------------+--------------------+--------------------+-----------+--------------+\n",
      "|marketplace|customer_id|     review_id|product_id|product_parent|       product_title|product_category|star_rating|helpful_votes|total_votes|vine|verified_purchase|     review_headline|         review_body|review_date|customer_count|\n",
      "+-----------+-----------+--------------+----------+--------------+--------------------+----------------+-----------+-------------+-----------+----+-----------------+--------------------+--------------------+-----------+--------------+\n",
      "|         US|   10000018|R3SFRG4CC8CT57|B009YSYE06|       6815942|Report Women's Le...|           Shoes|          3|            0|          0|   N|                Y|           Just okay|I must say these ...| 2013-10-23|             0|\n",
      "|         US|   10000144|R1WZNG45ZG9IRL|B00FAKP9M4|     376417938|Easy Street Women...|           Shoes|          4|            1|          1|   N|                Y|               Great|They are quite co...| 2014-10-13|             1|\n",
      "|         US|   10000216|R363YWD0TG0A5I|B00IUYT9BE|     562516286|New Balance Women...|           Shoes|          4|            0|          0|   N|                Y|          Four Stars|           Love them| 2015-01-05|             2|\n",
      "|         US|   10000273|R16B0DZNVYY8EH|B00KVV0UXA|     624417689|Mini Melissa Todd...|           Shoes|          5|            0|          0|   N|                Y|It's not true to ...|My daughter loves...| 2015-01-05|             3|\n",
      "|         US|   10000387| RR6P4IIPIQOOF|B00BLFL34K|     240876511|SeaVees Men's 12-...|           Shoes|          2|            0|          1|   N|                Y|               Color|Returned  the sho...| 2014-03-28|             4|\n",
      "|         US|   10000472|R31E6LGZHNYBVL|B00W0S2RMY|     689481288|GUESS Women's Ely...|           Shoes|          5|            0|          0|   N|                Y|          Five Stars|Love it, cute and...| 2015-06-25|             5|\n",
      "|         US|   10000863| RRE8PFBL96RCJ|B006SDPT9K|     986829815|Mavic Mountain Bi...|           Shoes|          5|            0|          0|   N|                Y|  I love these shoes|I love these shoe...| 2015-05-12|             6|\n",
      "|         US|   10000997|R2BAJ3VEGED9KL|B00E6EQ3NE|     225920451|UGG Women's Baile...|           Shoes|          4|            0|          1|   N|                Y|          Four Stars|                Nice| 2015-07-27|             7|\n",
      "|         US|   10001576|R1P500H5LZYJ7Y|B005EJ6STO|     107059493|Stride Rite Spide...|           Shoes|          4|            0|          0|   N|                Y|          Four Stars|           very good| 2014-07-18|             8|\n",
      "|         US|   10001603| RGWDC4UJBOOJO|B002HK2EW8|     233590058|Ros Hommerson Wom...|           Shoes|          3|            0|          0|   N|                Y|Not what i expected.|The style is nice...| 2014-09-25|             9|\n",
      "|         US|    1000197|R28C6BW5UKHOJL|B00G3DINOS|     588378065|ECCO Women's Touc...|           Shoes|          5|            0|          0|   N|                Y|          Five Stars|Feet size is 23.5...| 2015-06-21|            10|\n",
      "|         US|   10002417|R2EHYWWY16EHVF|B00ANKJ1Y8|     730169436|Nine West Women's...|           Shoes|          3|            0|          0|   N|                Y|         Three Stars|I usually wear a ...| 2015-03-23|            11|\n",
      "|         US|   10002593| RE8492BPRCRE8|B006QIPA7I|     357222312|Bogs Glosh Waterp...|           Shoes|          5|            0|          0|   N|                Y|   perfect rain boot|I bought them for...| 2013-11-03|            12|\n",
      "|         US|   10002705|R2N86TBZRQIQZ5|B002JM0BVU|     441270212|Crocs Girls' Keel...|           Shoes|          4|            0|          0|   N|                Y|         so cute !!!|i liked these pai...| 2012-10-17|            13|\n",
      "|         US|   10002839|R10SG0Q0A6TNI5|B0027J4PFI|     969385790|Rainbow Mens Prem...|           Shoes|          5|            0|          0|   N|                Y|Wouldn't buy anyt...|My first pair of ...| 2013-10-30|            14|\n",
      "|         US|   10002915|R1S62HIL6D5CAF|B00BPXYQCE|     848045288|Mephisto Women's ...|           Shoes|          3|            1|          1|   N|                Y|          frili boot|I loved the softn...| 2013-12-26|            15|\n",
      "|         US|   10002922|R32UKM5Y8WB9NV|B00DBL4PVK|     713462029|Nine West Women's...|           Shoes|          5|            0|          0|   N|                Y|       Amazing deal!|I love these shoe...| 2014-04-12|            16|\n",
      "|         US|    1000308| RK1Y2D9KT94XN|B00FWQ4N8C|     612064304|Volatile Women's ...|           Shoes|          5|            1|          1|   N|                Y|          Five Stars|Love these shoes!...| 2015-04-14|            17|\n",
      "|         US|   10003220|R1LJHZ8PE4JSYG|B006ORU95O|     511927754|adidas Fast TR Ru...|           Shoes|          1|            0|          0|   N|                Y|the adhesive mate...|the item came wit...| 2013-01-22|            18|\n",
      "|         US|    1000354|R1KM3FS3L66VFK|B0099NB0DA|     645711510|Bates Men's Zero ...|           Shoes|          4|            0|          1|   N|                Y|          Four Stars|                good| 2014-10-23|            19|\n",
      "+-----------+-----------+--------------+----------+--------------+--------------------+----------------+-----------+-------------+-----------+----+-----------------+--------------------+--------------------+-----------+--------------+\n",
      "only showing top 20 rows\n",
      "\n"
     ]
    }
   ],
   "source": [
    "from pyspark.sql.functions import monotonically_increasing_id \n",
    "\n",
    "dfShoesCleaned_shoes = dfShoesCleaned.select(\"*\").withColumn(\"customer_count\", monotonically_increasing_id())\n",
    "dfShoesCleaned_shoes.show()"
   ]
  },
  {
   "cell_type": "code",
   "execution_count": 16,
   "metadata": {
    "colab": {
     "base_uri": "https://localhost:8080/"
    },
    "id": "KN0mg4naJVoc",
    "outputId": "c6a0fc8c-1fcf-4943-88cb-e11b0c526074"
   },
   "outputs": [
    {
     "name": "stdout",
     "output_type": "stream",
     "text": [
      "+-----------+--------------+\n",
      "|customer_id|customer_count|\n",
      "+-----------+--------------+\n",
      "|   39346768|             0|\n",
      "|   31973704|             1|\n",
      "|   43220439|             2|\n",
      "|   18401902|             3|\n",
      "|   30373645|             4|\n",
      "|   49949641|             5|\n",
      "|   14551404|             6|\n",
      "|   11640490|             7|\n",
      "|   39212844|             8|\n",
      "|   14426653|             9|\n",
      "|   26632941|            10|\n",
      "|   18070317|            11|\n",
      "|   51391946|            12|\n",
      "|   41334994|            13|\n",
      "|   39093279|            14|\n",
      "|   25769599|            15|\n",
      "|   52573642|            16|\n",
      "|   29903273|            17|\n",
      "|   45717823|            18|\n",
      "|   52809622|            19|\n",
      "+-----------+--------------+\n",
      "only showing top 20 rows\n",
      "\n"
     ]
    }
   ],
   "source": [
    "customers_shoes = dfShoesCleaned_shoes.select([\"customer_id\",\"customer_count\"])\n",
    "customers_shoes.show()"
   ]
  },
  {
   "cell_type": "code",
   "execution_count": 17,
   "metadata": {
    "colab": {
     "base_uri": "https://localhost:8080/"
    },
    "id": "gGM6rm7VJVoc",
    "outputId": "57790b72-6edb-4c37-ccc3-7f570687acaa"
   },
   "outputs": [
    {
     "name": "stdout",
     "output_type": "stream",
     "text": [
      "+--------------+-----------+-------------+-----------+----+\n",
      "|     review_id|star_rating|helpful_votes|total_votes|vine|\n",
      "+--------------+-----------+-------------+-----------+----+\n",
      "|R3SFRG4CC8CT57|          3|            0|          0|   N|\n",
      "|R36L1VQP51OMOU|          2|            0|          0|   N|\n",
      "|R2L4WAOM758QSD|          5|            2|          2|   N|\n",
      "|R2NFLNPUCGZR2G|          1|            0|          8|   N|\n",
      "|R2TE4JIZBYZYDG|          4|            0|          0|   N|\n",
      "|R2WPRQYEQN3N88|          2|            3|          4|   N|\n",
      "|R35B6YD5GGCFCH|          5|            0|          0|   N|\n",
      "|R1WZNG45ZG9IRL|          4|            1|          1|   N|\n",
      "|R157L8L3MYG9P7|          4|            1|          2|   N|\n",
      "|R31V4JDBVFP1AX|          5|            0|          0|   N|\n",
      "| RR6P4IIPIQOOF|          2|            0|          1|   N|\n",
      "|R1Y2NY9RTJAPO0|          5|            2|          2|   N|\n",
      "| RB1AXT9CIBF4T|          5|            0|          0|   N|\n",
      "|R31E6LGZHNYBVL|          5|            0|          0|   N|\n",
      "|R32IPCQ29TUK28|          4|            0|          0|   N|\n",
      "|R1JKD11XRNV5BU|          3|            0|          0|   N|\n",
      "|R1H3WMPDOYG2V2|          5|            0|          0|   N|\n",
      "| RXSZEC6OBNUAH|          4|            0|          0|   N|\n",
      "| RK8W8GX7VVC98|          4|            0|          0|   N|\n",
      "|R1EYHCIUQAVBLN|          5|            0|          0|   N|\n",
      "+--------------+-----------+-------------+-----------+----+\n",
      "only showing top 20 rows\n",
      "\n"
     ]
    }
   ],
   "source": [
    "vine_table_shoes = dfShoesCleaned_shoes.select([\"review_id\",\"star_rating\",\"helpful_votes\",\"total_votes\",\"vine\"])\n",
    "vine_table_shoes.show()"
   ]
  },
  {
   "cell_type": "code",
   "execution_count": 18,
   "metadata": {
    "id": "CuPIWS3DJVoc"
   },
   "outputs": [],
   "source": [
    "# Configure settings for RDS\n",
    "mode = \"append\"\n",
    "jdbc_url=\"jdbc:postgresql://<connection string>:5432/<database-name>\"\n",
    "config = {\"user\":\"postgres\", \n",
    "          \"password\": \"<password>\", \n",
    "          \"driver\":\"org.postgresql.Driver\"}\n"
   ]
  },
  {
   "cell_type": "code",
   "execution_count": null,
   "metadata": {
    "id": "uLyREqBKQMRl"
   },
   "outputs": [],
   "source": [
    "review_id_table_shoes.write.jdbc(url=jdbc_url, table='review_id_table_shoes', mode=mode, properties=config)"
   ]
  },
  {
   "cell_type": "code",
   "execution_count": null,
   "metadata": {
    "id": "HbfmmDiRQRey"
   },
   "outputs": [],
   "source": [
    "products_shoes.write.jdbc(url=jdbc_url, table='products_shoes', mode=mode, properties=config)"
   ]
  },
  {
   "cell_type": "code",
   "execution_count": null,
   "metadata": {
    "id": "M1w7NwMsJVod"
   },
   "outputs": [],
   "source": [
    "customers_shoes.write.jdbc(url=jdbc_url, table='customers_shoes', mode=mode, properties=config)"
   ]
  },
  {
   "cell_type": "code",
   "execution_count": null,
   "metadata": {
    "id": "S2yQmseSJVod"
   },
   "outputs": [],
   "source": [
    "vine_table_shoes.write.jdbc(url=jdbc_url, table='vine_table_shoes', mode=mode, properties=config)"
   ]
  }
 ],
 "metadata": {
  "colab": {
   "provenance": []
  },
  "kernelspec": {
   "display_name": "Python 3 (ipykernel)",
   "language": "python",
   "name": "python3"
  },
  "language_info": {
   "codemirror_mode": {
    "name": "ipython",
    "version": 3
   },
   "file_extension": ".py",
   "mimetype": "text/x-python",
   "name": "python",
   "nbconvert_exporter": "python",
   "pygments_lexer": "ipython3",
   "version": "3.9.12"
  }
 },
 "nbformat": 4,
 "nbformat_minor": 1
}
